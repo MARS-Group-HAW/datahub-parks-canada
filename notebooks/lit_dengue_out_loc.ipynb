{
 "cells": [
  {
   "cell_type": "code",
   "execution_count": 15,
   "id": "7f2e711b",
   "metadata": {},
   "outputs": [],
   "source": [
    "import pandas as pd\n",
    "import geopandas\n",
    "\n",
    "# prevent false warning\n",
    "# https://stackoverflow.com/questions/20625582/how-to-deal-with-settingwithcopywarning-in-pandas\n",
    "pd.options.mode.chained_assignment = None  # default='warn'\n",
    "\n",
    "import matplotlib.pyplot as plt\n",
    "import matplotlib.ticker as mtick\n",
    "import numpy as np\n",
    "\n",
    "from dbconf import get_engine"
   ]
  },
  {
   "cell_type": "code",
   "execution_count": 20,
   "id": "4b110ce8",
   "metadata": {},
   "outputs": [],
   "source": [
    "regions_gdf = geopandas.GeoDataFrame.from_postgis(\"SELECT * FROM shape WHERE type='region'\", \n",
    "                                                  geom_col='geometry', con=get_engine())"
   ]
  },
  {
   "cell_type": "code",
   "execution_count": 23,
   "id": "7d69af2d",
   "metadata": {},
   "outputs": [],
   "source": [
    "known_regions = list(regions_gdf['name'].unique())"
   ]
  },
  {
   "cell_type": "code",
   "execution_count": 69,
   "id": "9495e016",
   "metadata": {},
   "outputs": [],
   "source": [
    "df = pd.read_excel('../input/data.local/lit_dengue_out_loc/WHOAB_summary_withSignalSheet.xlsx', sheet_name=1, \n",
    "                  na_values=['None', 'none'],\n",
    "                  parse_dates=['Report date', 'Start date', 'End date'])"
   ]
  },
  {
   "cell_type": "code",
   "execution_count": 70,
   "id": "ec5ac949",
   "metadata": {},
   "outputs": [
    {
     "name": "stdout",
     "output_type": "stream",
     "text": [
      "<class 'pandas.core.frame.DataFrame'>\n",
      "RangeIndex: 89 entries, 0 to 88\n",
      "Data columns (total 8 columns):\n",
      " #   Column           Non-Null Count  Dtype         \n",
      "---  ------           --------------  -----         \n",
      " 0   ID               89 non-null     object        \n",
      " 1   Regions          89 non-null     object        \n",
      " 2   Report date      89 non-null     datetime64[ns]\n",
      " 3   Cases            89 non-null     int64         \n",
      " 4   Confirmed Cases  89 non-null     int64         \n",
      " 5   Deaths           83 non-null     float64       \n",
      " 6   Start date       85 non-null     datetime64[ns]\n",
      " 7   End date         63 non-null     datetime64[ns]\n",
      "dtypes: datetime64[ns](3), float64(1), int64(2), object(2)\n",
      "memory usage: 5.7+ KB\n"
     ]
    }
   ],
   "source": [
    "df.info()"
   ]
  },
  {
   "cell_type": "code",
   "execution_count": 71,
   "id": "a5c7194b",
   "metadata": {},
   "outputs": [
    {
     "data": {
      "text/html": [
       "<div>\n",
       "<style scoped>\n",
       "    .dataframe tbody tr th:only-of-type {\n",
       "        vertical-align: middle;\n",
       "    }\n",
       "\n",
       "    .dataframe tbody tr th {\n",
       "        vertical-align: top;\n",
       "    }\n",
       "\n",
       "    .dataframe thead th {\n",
       "        text-align: right;\n",
       "    }\n",
       "</style>\n",
       "<table border=\"1\" class=\"dataframe\">\n",
       "  <thead>\n",
       "    <tr style=\"text-align: right;\">\n",
       "      <th></th>\n",
       "      <th>ID</th>\n",
       "      <th>Regions</th>\n",
       "      <th>Report date</th>\n",
       "      <th>Cases</th>\n",
       "      <th>Confirmed Cases</th>\n",
       "      <th>Deaths</th>\n",
       "      <th>Start date</th>\n",
       "      <th>End date</th>\n",
       "    </tr>\n",
       "  </thead>\n",
       "  <tbody>\n",
       "    <tr>\n",
       "      <th>0</th>\n",
       "      <td>WHOWB.14.A.1</td>\n",
       "      <td>Dar-es-salaam</td>\n",
       "      <td>2014-05-23</td>\n",
       "      <td>1050</td>\n",
       "      <td>620</td>\n",
       "      <td>3.0</td>\n",
       "      <td>NaT</td>\n",
       "      <td>NaT</td>\n",
       "    </tr>\n",
       "    <tr>\n",
       "      <th>1</th>\n",
       "      <td>WHOWB.14.A.1</td>\n",
       "      <td>Kigoma</td>\n",
       "      <td>2014-05-23</td>\n",
       "      <td>1050</td>\n",
       "      <td>620</td>\n",
       "      <td>3.0</td>\n",
       "      <td>NaT</td>\n",
       "      <td>NaT</td>\n",
       "    </tr>\n",
       "    <tr>\n",
       "      <th>2</th>\n",
       "      <td>WHOWB.14.A.1</td>\n",
       "      <td>Mwanza</td>\n",
       "      <td>2014-05-23</td>\n",
       "      <td>1050</td>\n",
       "      <td>620</td>\n",
       "      <td>3.0</td>\n",
       "      <td>NaT</td>\n",
       "      <td>NaT</td>\n",
       "    </tr>\n",
       "    <tr>\n",
       "      <th>3</th>\n",
       "      <td>WHOWB.14.A.1</td>\n",
       "      <td>Mbeya</td>\n",
       "      <td>2014-05-23</td>\n",
       "      <td>1050</td>\n",
       "      <td>620</td>\n",
       "      <td>3.0</td>\n",
       "      <td>NaT</td>\n",
       "      <td>NaT</td>\n",
       "    </tr>\n",
       "    <tr>\n",
       "      <th>4</th>\n",
       "      <td>WHOWB.18.A.1</td>\n",
       "      <td>Dar-es-salaam</td>\n",
       "      <td>2018-03-23</td>\n",
       "      <td>13</td>\n",
       "      <td>11</td>\n",
       "      <td>NaN</td>\n",
       "      <td>2017-12-01</td>\n",
       "      <td>2018-03-21</td>\n",
       "    </tr>\n",
       "  </tbody>\n",
       "</table>\n",
       "</div>"
      ],
      "text/plain": [
       "             ID        Regions Report date  Cases  Confirmed Cases  Deaths  \\\n",
       "0  WHOWB.14.A.1  Dar-es-salaam  2014-05-23   1050              620     3.0   \n",
       "1  WHOWB.14.A.1         Kigoma  2014-05-23   1050              620     3.0   \n",
       "2  WHOWB.14.A.1         Mwanza  2014-05-23   1050              620     3.0   \n",
       "3  WHOWB.14.A.1          Mbeya  2014-05-23   1050              620     3.0   \n",
       "4  WHOWB.18.A.1  Dar-es-salaam  2018-03-23     13               11     NaN   \n",
       "\n",
       "  Start date   End date  \n",
       "0        NaT        NaT  \n",
       "1        NaT        NaT  \n",
       "2        NaT        NaT  \n",
       "3        NaT        NaT  \n",
       "4 2017-12-01 2018-03-21  "
      ]
     },
     "execution_count": 71,
     "metadata": {},
     "output_type": "execute_result"
    }
   ],
   "source": [
    "df.head()"
   ]
  },
  {
   "cell_type": "code",
   "execution_count": 78,
   "id": "77c88683",
   "metadata": {},
   "outputs": [],
   "source": [
    "df2 = df"
   ]
  },
  {
   "cell_type": "code",
   "execution_count": 81,
   "id": "cdc2c861",
   "metadata": {},
   "outputs": [],
   "source": [
    "col_from = list(df2.columns)"
   ]
  },
  {
   "cell_type": "code",
   "execution_count": 84,
   "id": "32be0393",
   "metadata": {},
   "outputs": [],
   "source": [
    "col_to = []\n",
    "prefix = 'lit_dengue_out_loc'\n",
    "for c in col_from:\n",
    "    col_to.append(f\"{prefix}_{c.lower().replace(' ', '_')}\")"
   ]
  },
  {
   "cell_type": "code",
   "execution_count": 85,
   "id": "eff6795e",
   "metadata": {},
   "outputs": [
    {
     "data": {
      "text/plain": [
       "['lit_dengue_out_loc_id',\n",
       " 'lit_dengue_out_loc_regions',\n",
       " 'lit_dengue_out_loc_report_date',\n",
       " 'lit_dengue_out_loc_cases',\n",
       " 'lit_dengue_out_loc_confirmed_cases',\n",
       " 'lit_dengue_out_loc_deaths',\n",
       " 'lit_dengue_out_loc_start_date',\n",
       " 'lit_dengue_out_loc_end_date']"
      ]
     },
     "execution_count": 85,
     "metadata": {},
     "output_type": "execute_result"
    }
   ],
   "source": [
    "col_to"
   ]
  },
  {
   "cell_type": "code",
   "execution_count": 87,
   "id": "9fa5a9f4",
   "metadata": {},
   "outputs": [
    {
     "data": {
      "text/plain": [
       "{'ID': 'lit_dengue_out_loc_id',\n",
       " 'Regions': 'lit_dengue_out_loc_regions',\n",
       " 'Report date': 'lit_dengue_out_loc_report_date',\n",
       " 'Cases': 'lit_dengue_out_loc_cases',\n",
       " 'Confirmed Cases': 'lit_dengue_out_loc_confirmed_cases',\n",
       " 'Deaths': 'lit_dengue_out_loc_deaths',\n",
       " 'Start date': 'lit_dengue_out_loc_start_date',\n",
       " 'End date': 'lit_dengue_out_loc_end_date'}"
      ]
     },
     "execution_count": 87,
     "metadata": {},
     "output_type": "execute_result"
    }
   ],
   "source": [
    "dict(zip(col_from, col_to))"
   ]
  },
  {
   "cell_type": "code",
   "execution_count": 48,
   "id": "9ba9327c",
   "metadata": {},
   "outputs": [
    {
     "name": "stdout",
     "output_type": "stream",
     "text": [
      "Dar-es-salaam\n",
      "Kigoma\n",
      "Mwanza\n",
      "Mbeya\n",
      "Dar-es-salaam\n",
      "Dar-es-salaam\n",
      "Dar-es-salaam\n",
      "Dar-es-salaam\n",
      "Tanga\n",
      "Dar-es-salaam\n",
      "Tanga\n",
      "Dar-es-salaam\n",
      "Tanga\n",
      "Dar-es-salaam\n",
      "Tanga\n",
      "Dar-es-salaam\n",
      "Tanga\n",
      "Dar-es-salaam\n",
      "Tanga\n",
      "Dar-es-salaam\n",
      "Tanga\n",
      "Dar-es-salaam\n",
      "Dar-es-salaam\n",
      "Dar-es-salaam\n",
      "Tanga\n",
      "Pwani\n",
      "Morogoro\n",
      "Dar-es-salaam\n",
      "Tanga\n",
      "Pwani\n",
      "Morogoro\n",
      "Dar-es-salaam\n",
      "Tanga\n",
      "Pwani\n",
      "Morogoro\n",
      "Dar-es-salaam\n",
      "Tanga\n",
      "Pwani\n",
      "Morogoro\n",
      "Dar-es-salaam\n",
      "Tanga\n",
      "Pwani\n",
      "Morogoro\n",
      "Ruvuma\n",
      "Dar-es-salaam\n",
      "Tanga\n",
      "Lindi\n",
      "Arusha\n",
      "Ruvuma\n",
      "Dar-es-salaam\n",
      "Tanga\n",
      "Lindi\n",
      "Arusha\n",
      "Dar-es-salaam\n",
      "Tanga\n",
      "Pwani\n",
      "Lindi\n",
      "Dar-es-salaam\n",
      "Tanga\n",
      "Dar-es-salaam\n",
      "Tanga\n",
      "Dar-es-salaam\n",
      "Tanga\n",
      "Dar-es-salaam\n",
      "Tanga\n",
      "Dar-es-salaam\n",
      "Tanga\n",
      "Dar-es-salaam\n",
      "Tanga\n",
      "Arusha\n",
      "Dar-es-salaam\n",
      "Dodoma\n",
      "Kagera\n",
      "Kilimanjaro\n",
      "Morogoro\n",
      "Pwani\n",
      "Ruvuma\n",
      "Singida\n",
      "Tanga\n",
      "Arusha\n",
      "Dar-es-salaam\n",
      "Dodoma\n",
      "Kagera\n",
      "Kilimanjaro\n",
      "Morogoro\n",
      "Pwani\n",
      "Ruvuma\n",
      "Singida\n",
      "Tanga\n"
     ]
    }
   ],
   "source": [
    "given_regions = []\n",
    "\n",
    "for i, row in df[df['Regions'].notna()].iterrows():\n",
    "    print(row['Regions'])\n"
   ]
  },
  {
   "cell_type": "code",
   "execution_count": 49,
   "id": "e237b537",
   "metadata": {},
   "outputs": [],
   "source": [
    "given_regions = list(df['Regions'].unique())"
   ]
  },
  {
   "cell_type": "code",
   "execution_count": 50,
   "id": "8334c05e",
   "metadata": {},
   "outputs": [],
   "source": [
    "for r in given_regions:\n",
    "    if r not in known_regions:\n",
    "        print(r)"
   ]
  },
  {
   "cell_type": "code",
   "execution_count": 77,
   "id": "22f57c8a",
   "metadata": {},
   "outputs": [
    {
     "data": {
      "text/plain": [
       "{'Dodoma': 1,\n",
       " 'Arusha': 2,\n",
       " 'Kilimanjaro': 3,\n",
       " 'Tanga': 4,\n",
       " 'Morogoro': 5,\n",
       " 'Pwani': 6,\n",
       " 'Dar-es-salaam': 7,\n",
       " 'Lindi': 8,\n",
       " 'Mtwara': 9,\n",
       " 'Ruvuma': 10,\n",
       " 'Iringa': 11,\n",
       " 'Mbeya': 12,\n",
       " 'Singida': 13,\n",
       " 'Tabora': 14,\n",
       " 'Rukwa': 15,\n",
       " 'Kusini Unguja': 28,\n",
       " 'Mjini Magharibi': 29,\n",
       " 'Kaskazini Pemba': 30,\n",
       " 'Kusini Pemba': 31,\n",
       " 'Kigoma': 16,\n",
       " 'Shinyanga': 17,\n",
       " 'Kagera': 18,\n",
       " 'Mwanza': 19,\n",
       " 'Mara': 20,\n",
       " 'Manyara': 21,\n",
       " 'Njombe': 22,\n",
       " 'Katavi': 23,\n",
       " 'Simiyu': 24,\n",
       " 'Geita': 25,\n",
       " 'Songwe': 26,\n",
       " 'Kaskazini Unguja': 27}"
      ]
     },
     "execution_count": 77,
     "metadata": {},
     "output_type": "execute_result"
    }
   ],
   "source": [
    "dict(zip(regions_gdf.name, regions_gdf.id))"
   ]
  },
  {
   "cell_type": "code",
   "execution_count": 76,
   "id": "f80bccc0",
   "metadata": {},
   "outputs": [
    {
     "data": {
      "text/plain": [
       "{0: {'name': 'Dodoma', 'id': 1},\n",
       " 1: {'name': 'Arusha', 'id': 2},\n",
       " 2: {'name': 'Kilimanjaro', 'id': 3},\n",
       " 3: {'name': 'Tanga', 'id': 4},\n",
       " 4: {'name': 'Morogoro', 'id': 5},\n",
       " 5: {'name': 'Pwani', 'id': 6},\n",
       " 6: {'name': 'Dar-es-salaam', 'id': 7},\n",
       " 7: {'name': 'Lindi', 'id': 8},\n",
       " 8: {'name': 'Mtwara', 'id': 9},\n",
       " 9: {'name': 'Ruvuma', 'id': 10},\n",
       " 10: {'name': 'Iringa', 'id': 11},\n",
       " 11: {'name': 'Mbeya', 'id': 12},\n",
       " 12: {'name': 'Singida', 'id': 13},\n",
       " 13: {'name': 'Tabora', 'id': 14},\n",
       " 14: {'name': 'Rukwa', 'id': 15},\n",
       " 15: {'name': 'Kusini Unguja', 'id': 28},\n",
       " 16: {'name': 'Mjini Magharibi', 'id': 29},\n",
       " 17: {'name': 'Kaskazini Pemba', 'id': 30},\n",
       " 18: {'name': 'Kusini Pemba', 'id': 31},\n",
       " 19: {'name': 'Kigoma', 'id': 16},\n",
       " 20: {'name': 'Shinyanga', 'id': 17},\n",
       " 21: {'name': 'Kagera', 'id': 18},\n",
       " 22: {'name': 'Mwanza', 'id': 19},\n",
       " 23: {'name': 'Mara', 'id': 20},\n",
       " 24: {'name': 'Manyara', 'id': 21},\n",
       " 25: {'name': 'Njombe', 'id': 22},\n",
       " 26: {'name': 'Katavi', 'id': 23},\n",
       " 27: {'name': 'Simiyu', 'id': 24},\n",
       " 28: {'name': 'Geita', 'id': 25},\n",
       " 29: {'name': 'Songwe', 'id': 26},\n",
       " 30: {'name': 'Kaskazini Unguja', 'id': 27}}"
      ]
     },
     "execution_count": 76,
     "metadata": {},
     "output_type": "execute_result"
    }
   ],
   "source": [
    "regions_gdf[['name', 'id']].to_dict(orient='index')"
   ]
  }
 ],
 "metadata": {
  "kernelspec": {
   "display_name": "Python 3 (ipykernel)",
   "language": "python",
   "name": "python3"
  },
  "language_info": {
   "codemirror_mode": {
    "name": "ipython",
    "version": 3
   },
   "file_extension": ".py",
   "mimetype": "text/x-python",
   "name": "python",
   "nbconvert_exporter": "python",
   "pygments_lexer": "ipython3",
   "version": "3.9.13"
  }
 },
 "nbformat": 4,
 "nbformat_minor": 5
}
