{
 "cells": [
  {
   "cell_type": "code",
   "execution_count": 4,
   "id": "417d6951",
   "metadata": {},
   "outputs": [],
   "source": [
    "import datetime as dt\n",
    "import os\n",
    "import re\n",
    "\n",
    "import numpy as np\n",
    "import rasterio\n",
    "\n",
    "\n",
    "import pandas as pd\n",
    "\n",
    "# prevent false warning\n",
    "# https://stackoverflow.com/questions/20625582/how-to-deal-with-settingwithcopywarning-in-pandas\n",
    "pd.options.mode.chained_assignment = None  # default='warn'\n",
    "\n",
    "import matplotlib.pyplot as plt\n",
    "import matplotlib.ticker as mtick\n",
    "import numpy as np\n",
    "\n",
    "import fiona\n",
    "import rasterio\n",
    "import rasterio.mask"
   ]
  },
  {
   "cell_type": "code",
   "execution_count": 6,
   "id": "e462544e",
   "metadata": {},
   "outputs": [],
   "source": [
    "BASE_URL = \"https://data.chc.ucsb.edu/products/CHIRPS-2.0/africa_daily/tifs/{resolution}/{year}/chirps-v2.0.{year}.{month:02d}.{day:02d}.tif.gz\"\n"
   ]
  },
  {
   "cell_type": "code",
   "execution_count": 27,
   "id": "ad5601a4",
   "metadata": {},
   "outputs": [],
   "source": [
    "date = dt.date(2010, 1, 2)\n",
    "url = BASE_URL.format(resolution=\"p05\", year=date.year, month=date.month, day=date.day)\n"
   ]
  },
  {
   "cell_type": "code",
   "execution_count": 28,
   "id": "fdeb0822",
   "metadata": {},
   "outputs": [
    {
     "data": {
      "text/plain": [
       "'https://data.chc.ucsb.edu/products/CHIRPS-2.0/africa_daily/tifs/p05/2010/chirps-v2.0.2010.01.02.tif.gz'"
      ]
     },
     "execution_count": 28,
     "metadata": {},
     "output_type": "execute_result"
    }
   ],
   "source": [
    "url"
   ]
  },
  {
   "cell_type": "code",
   "execution_count": 29,
   "id": "01db4e51",
   "metadata": {},
   "outputs": [],
   "source": [
    "x = re.search(r'([0-9]{4})\\.([0-9]{2})\\.([0-9]{2})\\.tif', os.path.basename(url))\n"
   ]
  },
  {
   "cell_type": "code",
   "execution_count": 69,
   "id": "849a04c2",
   "metadata": {},
   "outputs": [],
   "source": [
    "file = '/Users/jona/htdocs/MARS/esida-db/output/Moshi DC/chc_chirps/chirps-v2.0.2019.11.16.tif'"
   ]
  },
  {
   "cell_type": "code",
   "execution_count": 70,
   "id": "37c9a358",
   "metadata": {},
   "outputs": [],
   "source": [
    "dataset = rasterio.open(file, nodata=-9999.0)\n",
    "band1 = dataset.read(1, masked=True)"
   ]
  },
  {
   "cell_type": "code",
   "execution_count": 71,
   "id": "c200c184",
   "metadata": {},
   "outputs": [
    {
     "data": {
      "text/plain": [
       "masked_array(\n",
       "  data=[[0., 0., 0., 0., 0., 0., 0.],\n",
       "        [0., 0., 0., 0., 0., 0., 0.],\n",
       "        [0., 0., 0., 0., 0., 0., 0.],\n",
       "        [0., 0., 0., 0., 0., 0., 0.],\n",
       "        [0., 0., 0., 0., 0., 0., 0.],\n",
       "        [0., 0., 0., 0., 0., 0., 0.],\n",
       "        [0., 0., 0., 0., 0., 0., 0.],\n",
       "        [0., 0., 0., 0., 0., 0., 0.],\n",
       "        [0., 0., 0., 0., 0., 0., 0.],\n",
       "        [0., 0., 0., 0., 0., 0., 0.],\n",
       "        [0., 0., 0., 0., 0., 0., 0.]],\n",
       "  mask=False,\n",
       "  fill_value=1e+20,\n",
       "  dtype=float32)"
      ]
     },
     "execution_count": 71,
     "metadata": {},
     "output_type": "execute_result"
    }
   ],
   "source": [
    "band1"
   ]
  },
  {
   "cell_type": "code",
   "execution_count": 72,
   "id": "33d28621",
   "metadata": {},
   "outputs": [
    {
     "data": {
      "text/plain": [
       "0.0"
      ]
     },
     "execution_count": 72,
     "metadata": {},
     "output_type": "execute_result"
    }
   ],
   "source": [
    "np.nanmean(band1)"
   ]
  },
  {
   "cell_type": "code",
   "execution_count": 73,
   "id": "667fcec2",
   "metadata": {},
   "outputs": [],
   "source": [
    "band1[band1==-9999] = np.nan"
   ]
  },
  {
   "cell_type": "code",
   "execution_count": 74,
   "id": "b5516e59",
   "metadata": {},
   "outputs": [
    {
     "data": {
      "text/plain": [
       "masked_array(\n",
       "  data=[[0., 0., 0., 0., 0., 0., 0.],\n",
       "        [0., 0., 0., 0., 0., 0., 0.],\n",
       "        [0., 0., 0., 0., 0., 0., 0.],\n",
       "        [0., 0., 0., 0., 0., 0., 0.],\n",
       "        [0., 0., 0., 0., 0., 0., 0.],\n",
       "        [0., 0., 0., 0., 0., 0., 0.],\n",
       "        [0., 0., 0., 0., 0., 0., 0.],\n",
       "        [0., 0., 0., 0., 0., 0., 0.],\n",
       "        [0., 0., 0., 0., 0., 0., 0.],\n",
       "        [0., 0., 0., 0., 0., 0., 0.],\n",
       "        [0., 0., 0., 0., 0., 0., 0.]],\n",
       "  mask=False,\n",
       "  fill_value=1e+20,\n",
       "  dtype=float32)"
      ]
     },
     "execution_count": 74,
     "metadata": {},
     "output_type": "execute_result"
    }
   ],
   "source": [
    "band1"
   ]
  },
  {
   "cell_type": "code",
   "execution_count": 75,
   "id": "ade71f57",
   "metadata": {},
   "outputs": [
    {
     "data": {
      "text/plain": [
       "0.0"
      ]
     },
     "execution_count": 75,
     "metadata": {},
     "output_type": "execute_result"
    }
   ],
   "source": [
    "np.nanmean(band1)"
   ]
  },
  {
   "cell_type": "code",
   "execution_count": 78,
   "id": "951b18a1",
   "metadata": {},
   "outputs": [],
   "source": [
    "tiff = '/Users/jona/htdocs/MARS/esida-db/input/data/worldpop_urbanext/tza_bsgme_v0a_100m_2015.tif'\n",
    "#tiff = '/Users/jona/htdocs/MARS/esida-db/input/data/worldpop_popc/tza_ppp_2019_UNadj.tif'\n",
    "mask = '/Users/jona/htdocs/MARS/esida-db/input/shapes/Districts/Mjini.shp'\n",
    "#mask = '/Users/jona/htdocs/MARS/esida-db/input/shapes/Districts_Shapefiles_2019/Districts and TC as 2020 FIXED.shp'"
   ]
  },
  {
   "cell_type": "code",
   "execution_count": 79,
   "id": "c4869941",
   "metadata": {},
   "outputs": [],
   "source": [
    "import fiona\n",
    "import rasterio\n",
    "import rasterio.mask"
   ]
  },
  {
   "cell_type": "markdown",
   "id": "daa95083",
   "metadata": {},
   "source": [
    "# rasterio stats tool"
   ]
  },
  {
   "cell_type": "code",
   "execution_count": 80,
   "id": "7f33d531",
   "metadata": {},
   "outputs": [
    {
     "data": {
      "text/plain": [
       "[{'min': 0.0,\n",
       "  'max': 1.0,\n",
       "  'mean': 0.8446280991735537,\n",
       "  'count': 1815,\n",
       "  'sum': 1533.0,\n",
       "  'median': 1.0}]"
      ]
     },
     "execution_count": 80,
     "metadata": {},
     "output_type": "execute_result"
    }
   ],
   "source": [
    "from rasterstats import zonal_stats\n",
    "\n",
    "zonal_stats(mask, tiff,\n",
    "            stats=\"count min mean max median sum\")"
   ]
  },
  {
   "cell_type": "markdown",
   "id": "9911120a",
   "metadata": {},
   "source": [
    "# rasterio stand alone"
   ]
  },
  {
   "cell_type": "code",
   "execution_count": 81,
   "id": "6c24f6ce",
   "metadata": {},
   "outputs": [],
   "source": [
    "with fiona.open(mask, \"r\") as shapefile:\n",
    "    shapes = [feature[\"geometry\"] for feature in shapefile]"
   ]
  },
  {
   "cell_type": "code",
   "execution_count": 88,
   "id": "53d14ed6",
   "metadata": {},
   "outputs": [],
   "source": [
    "with rasterio.open(tiff) as src:\n",
    "    nodata=src.nodata\n",
    "    out_image, out_transform = rasterio.mask.mask(src, shapes, crop=True)\n",
    "    out_meta = src.meta\n",
    "    \n",
    "    band1 = src.read(1, masked=True)\n",
    "\n",
    "out_meta.update({\"driver\": \"GTiff\",\n",
    "                 \"height\": out_image.shape[1],\n",
    "                 \"width\": out_image.shape[2],\n",
    "                 \"transform\": out_transform})\n",
    "\n",
    "with rasterio.open(\"RGB.byte.masked.tif\", \"w\", **out_meta) as dest:\n",
    "    dest.write(out_image)\n",
    "    "
   ]
  },
  {
   "cell_type": "code",
   "execution_count": 87,
   "id": "d256b8c9",
   "metadata": {},
   "outputs": [],
   "source": [
    "band2 = out_image[0]"
   ]
  },
  {
   "cell_type": "code",
   "execution_count": 92,
   "id": "b83cd90b",
   "metadata": {},
   "outputs": [
    {
     "data": {
      "text/plain": [
       "255.0"
      ]
     },
     "execution_count": 92,
     "metadata": {},
     "output_type": "execute_result"
    }
   ],
   "source": [
    "nodata"
   ]
  },
  {
   "cell_type": "code",
   "execution_count": 98,
   "id": "7681f88e",
   "metadata": {},
   "outputs": [
    {
     "data": {
      "text/plain": [
       "array([[255, 255, 255, ..., 255, 255, 255],\n",
       "       [255, 255, 255, ..., 255, 255, 255],\n",
       "       [255, 255, 255, ..., 255, 255, 255],\n",
       "       ...,\n",
       "       [255, 255, 255, ..., 255, 255, 255],\n",
       "       [255, 255, 255, ..., 255, 255, 255],\n",
       "       [255, 255, 255, ..., 255, 255, 255]], dtype=uint8)"
      ]
     },
     "execution_count": 98,
     "metadata": {},
     "output_type": "execute_result"
    }
   ],
   "source": [
    "band2"
   ]
  },
  {
   "cell_type": "code",
   "execution_count": 100,
   "id": "634af5ec",
   "metadata": {},
   "outputs": [],
   "source": [
    "band3 = band2.astype(np.float32)"
   ]
  },
  {
   "cell_type": "code",
   "execution_count": 96,
   "id": "00e8d44c",
   "metadata": {},
   "outputs": [
    {
     "ename": "ValueError",
     "evalue": "cannot convert float NaN to integer",
     "output_type": "error",
     "traceback": [
      "\u001b[0;31m---------------------------------------------------------------------------\u001b[0m",
      "\u001b[0;31mValueError\u001b[0m                                Traceback (most recent call last)",
      "Input \u001b[0;32mIn [96]\u001b[0m, in \u001b[0;36m<cell line: 1>\u001b[0;34m()\u001b[0m\n\u001b[0;32m----> 1\u001b[0m \u001b[38;5;28;43mint\u001b[39;49m\u001b[43m(\u001b[49m\u001b[43mnp\u001b[49m\u001b[38;5;241;43m.\u001b[39;49m\u001b[43mnan\u001b[49m\u001b[43m)\u001b[49m\n",
      "\u001b[0;31mValueError\u001b[0m: cannot convert float NaN to integer"
     ]
    }
   ],
   "source": [
    "int(np.nan)"
   ]
  },
  {
   "cell_type": "code",
   "execution_count": 101,
   "id": "fe6ca180",
   "metadata": {},
   "outputs": [],
   "source": [
    "band3[band3 == 255] = np.nan"
   ]
  },
  {
   "cell_type": "code",
   "execution_count": 105,
   "id": "cd0b73b6",
   "metadata": {},
   "outputs": [
    {
     "data": {
      "image/png": "[encoded data removed]",
      "text/plain": [
       "<Figure size 432x288 with 1 Axes>"
      ]
     },
     "metadata": {
      "needs_background": "light"
     },
     "output_type": "display_data"
    }
   ],
   "source": [
    "plt.imshow(band2)\n",
    "plt.title(\"NDVI\")\n",
    "plt.show()"
   ]
  },
  {
   "cell_type": "code",
   "execution_count": 106,
   "id": "d1704e89",
   "metadata": {},
   "outputs": [
    {
     "data": {
      "image/png": "[encoded data removed]",
      "text/plain": [
       "<Figure size 432x288 with 1 Axes>"
      ]
     },
     "metadata": {
      "needs_background": "light"
     },
     "output_type": "display_data"
    }
   ],
   "source": [
    "plt.imshow(band3)\n",
    "plt.title(\"NDVI\")\n",
    "plt.show()"
   ]
  },
  {
   "cell_type": "code",
   "execution_count": 103,
   "id": "0aa4b90e",
   "metadata": {},
   "outputs": [
    {
     "data": {
      "image/png": "[encoded data removed]",
      "text/plain": [
       "<Figure size 432x288 with 1 Axes>"
      ]
     },
     "metadata": {
      "needs_background": "light"
     },
     "output_type": "display_data"
    }
   ],
   "source": [
    "plt.imshow(out_image[0])\n",
    "plt.title(\"NDVI\")\n",
    "plt.show()"
   ]
  },
  {
   "cell_type": "code",
   "execution_count": 138,
   "id": "256263aa",
   "metadata": {},
   "outputs": [
    {
     "data": {
      "image/png": "[encoded data removed]",
      "text/plain": [
       "<Figure size 432x288 with 1 Axes>"
      ]
     },
     "metadata": {
      "needs_background": "light"
     },
     "output_type": "display_data"
    }
   ],
   "source": [
    "with rasterio.open(\"../output/Mjini/worldpop_pd/tza_pd_2000_1km_UNadj.tiff\") as src2:\n",
    "    band1 = src2.read(1)\n",
    "    \n",
    "    plt.imshow(band1)\n",
    "    plt.title(\"NDVI\")\n",
    "    plt.show()\n",
    "\n"
   ]
  },
  {
   "cell_type": "code",
   "execution_count": null,
   "id": "a761aac5",
   "metadata": {},
   "outputs": [],
   "source": []
  },
  {
   "cell_type": "code",
   "execution_count": 86,
   "id": "1f98d288",
   "metadata": {},
   "outputs": [
    {
     "data": {
      "text/plain": [
       "masked_array(\n",
       "  data=[[--, --, --, ..., --, --, --],\n",
       "        [--, --, --, ..., --, --, --],\n",
       "        [--, --, --, ..., --, --, --],\n",
       "        ...,\n",
       "        [--, --, --, ..., --, --, --],\n",
       "        [--, --, --, ..., --, --, --],\n",
       "        [--, --, --, ..., --, --, --]],\n",
       "  mask=[[ True,  True,  True, ...,  True,  True,  True],\n",
       "        [ True,  True,  True, ...,  True,  True,  True],\n",
       "        [ True,  True,  True, ...,  True,  True,  True],\n",
       "        ...,\n",
       "        [ True,  True,  True, ...,  True,  True,  True],\n",
       "        [ True,  True,  True, ...,  True,  True,  True],\n",
       "        [ True,  True,  True, ...,  True,  True,  True]],\n",
       "  fill_value=255,\n",
       "  dtype=uint8)"
      ]
     },
     "execution_count": 86,
     "metadata": {},
     "output_type": "execute_result"
    }
   ],
   "source": [
    "band1"
   ]
  },
  {
   "cell_type": "code",
   "execution_count": 113,
   "id": "55f0520e",
   "metadata": {},
   "outputs": [],
   "source": [
    "import earthpy.plot as ep\n",
    "import geopandas as gpd"
   ]
  },
  {
   "cell_type": "code",
   "execution_count": 114,
   "id": "3ad5fcef",
   "metadata": {},
   "outputs": [],
   "source": [
    "crop_bound = gpd.read_file(\n",
    "    mask\n",
    ")"
   ]
  },
  {
   "cell_type": "code",
   "execution_count": 115,
   "id": "d8cc51dd",
   "metadata": {},
   "outputs": [
    {
     "data": {
      "text/plain": [
       "<AxesSubplot:>"
      ]
     },
     "execution_count": 115,
     "metadata": {},
     "output_type": "execute_result"
    },
    {
     "data": {
      "image/png": "[encoded data removed]",
      "text/plain": [
       "<Figure size 432x288 with 1 Axes>"
      ]
     },
     "metadata": {
      "needs_background": "light"
     },
     "output_type": "display_data"
    }
   ],
   "source": [
    "crop_bound.plot()"
   ]
  },
  {
   "cell_type": "code",
   "execution_count": 139,
   "id": "6d2d92a9",
   "metadata": {},
   "outputs": [],
   "source": [
    "from dbconf import get_engine\n",
    "df = pd.read_sql_query('SELECT id, name FROM district', con=get_engine())"
   ]
  },
  {
   "cell_type": "code",
   "execution_count": 152,
   "id": "6fd6a890",
   "metadata": {
    "scrolled": false
   },
   "outputs": [
    {
     "name": "stdout",
     "output_type": "stream",
     "text": [
      "[[[ 0.        0.        0.        0.      ]\n",
      "  [ 0.       31.681482 23.208563  0.      ]\n",
      "  [ 0.        0.        0.        0.      ]]]\n",
      "[[31.681482 23.208563]]\n"
     ]
    },
    {
     "data": {
      "image/png": "[encoded data removed]",
      "text/plain": [
       "<Figure size 432x288 with 2 Axes>"
      ]
     },
     "metadata": {
      "needs_background": "light"
     },
     "output_type": "display_data"
    }
   ],
   "source": [
    "for i, row in df.iterrows():\n",
    "    name = row['name']\n",
    "    \n",
    "    if name != 'Musoma MC':\n",
    "        continue\n",
    "    \n",
    "    # rasterio wrapped shape\n",
    "    with fiona.open(f\"../input/shapes/Districts/{name}.shp\", \"r\") as shapefile:\n",
    "        shapes = [feature[\"geometry\"] for feature in shapefile]\n",
    "    \n",
    "    \n",
    "    with rasterio.open(f\"../input/data/chc_chirps/chirps-v2.0.2019.12.25.tif\") as src:\n",
    "        out_image, out_transform = rasterio.mask.mask(src, shapes, crop=True, nodata=-9999)\n",
    "        out_meta = src.meta\n",
    "    \n",
    "    \n",
    "    print(out_image)\n",
    "    \n",
    "    # gdalwarp wrapped shape\n",
    "    with rasterio.open(f\"../output/{name}/chc_chirps/chirps-v2.0.2019.12.25.tif\") as src2:\n",
    "        band1 = src2.read(1)\n",
    "\n",
    "    print(band1)\n",
    "\n",
    "        \n",
    "    # plot\n",
    "    fig, ax = plt.subplots(nrows=1, ncols=2)\n",
    "\n",
    "    \n",
    "    ax[0].set_title('rasterio')\n",
    "    ax[0].imshow(out_image[0])\n",
    "\n",
    "    \n",
    "    ax[1].set_title('gdalwarp')\n",
    "    ax[1].imshow(band1)\n",
    "    \n",
    "    plt.show()\n",
    "\n",
    "    "
   ]
  },
  {
   "cell_type": "markdown",
   "id": "e01e90f9",
   "metadata": {},
   "source": [
    "# pop d test"
   ]
  },
  {
   "cell_type": "code",
   "execution_count": 7,
   "id": "289763de",
   "metadata": {},
   "outputs": [],
   "source": [
    "tiff = '/Users/jona/htdocs/MARS/esida-db/input/data/worldpop_popd/tza_pd_2010_1km_UNadj.tif'\n",
    "mask = '/Users/jona/htdocs/MARS/esida-db/input/shapes/Districts/Sikonge DC.shp'"
   ]
  },
  {
   "cell_type": "code",
   "execution_count": 29,
   "id": "6e5f65fa",
   "metadata": {},
   "outputs": [],
   "source": [
    "with fiona.open(mask, \"r\") as shapefile:\n",
    "    shapes = [feature[\"geometry\"] for feature in shapefile]\n",
    "    \n",
    "    \n",
    "with rasterio.open(tiff) as src:\n",
    "    out_image, out_transform = rasterio.mask.mask(src, shapes, crop=True, nodata=-99999)\n",
    "    out_meta = src.meta\n",
    "    \n",
    "    band1 = src.read(1, masked=True)\n",
    "\n",
    "out_meta.update({\"driver\": \"GTiff\",\n",
    "                 \"height\": out_image.shape[1],\n",
    "                 \"width\": out_image.shape[2],\n",
    "                 \"transform\": out_transform})\n",
    "\n",
    "with rasterio.open(\"RGB.byte.masked.tif\", \"w\", **out_meta) as dest:\n",
    "    dest.write(out_image)"
   ]
  },
  {
   "cell_type": "code",
   "execution_count": 30,
   "id": "3ddafa64",
   "metadata": {},
   "outputs": [],
   "source": [
    "band1 = out_image[0]\n",
    "#band1[band1==-99999] = np.nan\n"
   ]
  },
  {
   "cell_type": "code",
   "execution_count": 31,
   "id": "70ca1453",
   "metadata": {},
   "outputs": [
    {
     "data": {
      "text/plain": [
       "array([[-99999., -99999., -99999., ..., -99999., -99999., -99999.],\n",
       "       [-99999., -99999., -99999., ..., -99999., -99999., -99999.],\n",
       "       [-99999., -99999., -99999., ..., -99999., -99999., -99999.],\n",
       "       ...,\n",
       "       [-99999., -99999., -99999., ..., -99999., -99999., -99999.],\n",
       "       [-99999., -99999., -99999., ..., -99999., -99999., -99999.],\n",
       "       [-99999., -99999., -99999., ..., -99999., -99999., -99999.]],\n",
       "      dtype=float32)"
      ]
     },
     "execution_count": 31,
     "metadata": {},
     "output_type": "execute_result"
    }
   ],
   "source": [
    "band1"
   ]
  },
  {
   "cell_type": "code",
   "execution_count": 33,
   "id": "83c56562",
   "metadata": {},
   "outputs": [
    {
     "data": {
      "text/plain": [
       "-42741.973"
      ]
     },
     "execution_count": 33,
     "metadata": {},
     "output_type": "execute_result"
    }
   ],
   "source": [
    "np.nanmean(band1)"
   ]
  },
  {
   "cell_type": "code",
   "execution_count": 32,
   "id": "e4b21e80",
   "metadata": {},
   "outputs": [
    {
     "data": {
      "image/png": "[encoded data removed]",
      "text/plain": [
       "<Figure size 432x288 with 1 Axes>"
      ]
     },
     "metadata": {
      "needs_background": "light"
     },
     "output_type": "display_data"
    }
   ],
   "source": [
    "plt.imshow(band1)\n",
    "plt.title(\"NDVI\")\n",
    "plt.show()"
   ]
  },
  {
   "cell_type": "code",
   "execution_count": 44,
   "id": "8d4b11b0",
   "metadata": {},
   "outputs": [],
   "source": [
    "from pathlib import Path\n",
    "import os \n",
    "\n",
    "p= Path(\"../input/data/worldpop_popd\")"
   ]
  },
  {
   "cell_type": "code",
   "execution_count": 46,
   "id": "15bfec6a",
   "metadata": {},
   "outputs": [
    {
     "data": {
      "text/plain": [
       "True"
      ]
     },
     "execution_count": 46,
     "metadata": {},
     "output_type": "execute_result"
    }
   ],
   "source": [
    "os.path.isfile(p / \"tza_pd_2009_1km_UNadj.tiff\")"
   ]
  },
  {
   "cell_type": "code",
   "execution_count": 49,
   "id": "5f84d705",
   "metadata": {},
   "outputs": [
    {
     "data": {
      "text/plain": [
       "'../input/data/worldpop_popd'"
      ]
     },
     "execution_count": 49,
     "metadata": {},
     "output_type": "execute_result"
    }
   ],
   "source": [
    "p.as_posix()"
   ]
  },
  {
   "cell_type": "code",
   "execution_count": 64,
   "id": "7113c17f",
   "metadata": {},
   "outputs": [],
   "source": [
    "with rasterio.open('../output/Mjini/worldpop_urbanext/tza_bsgme_v0a_100m_2015.tif') as src:\n",
    "    nodata = src.nodata\n",
    "    \n",
    "    band1 = src.read(1, masked=True)\n",
    "\n",
    "total_cells = np.count_nonzero(~np.isnan(band1))\n",
    "set_cells = np.count_nonzero(band1 == 1)\n"
   ]
  },
  {
   "cell_type": "code",
   "execution_count": 75,
   "id": "de809b70",
   "metadata": {},
   "outputs": [
    {
     "data": {
      "text/plain": [
       "3218"
      ]
     },
     "execution_count": 75,
     "metadata": {},
     "output_type": "execute_result"
    }
   ],
   "source": [
    "np.count_nonzero(band1)"
   ]
  },
  {
   "cell_type": "code",
   "execution_count": 77,
   "id": "99bc5a3b",
   "metadata": {},
   "outputs": [
    {
     "data": {
      "text/plain": [
       "1815"
      ]
     },
     "execution_count": 77,
     "metadata": {},
     "output_type": "execute_result"
    }
   ],
   "source": [
    "band1.count()"
   ]
  },
  {
   "cell_type": "code",
   "execution_count": 74,
   "id": "bb820a60",
   "metadata": {},
   "outputs": [
    {
     "data": {
      "text/plain": [
       "1815"
      ]
     },
     "execution_count": 74,
     "metadata": {},
     "output_type": "execute_result"
    }
   ],
   "source": [
    "band1.count()"
   ]
  },
  {
   "cell_type": "code",
   "execution_count": 65,
   "id": "057f2cdd",
   "metadata": {},
   "outputs": [
    {
     "data": {
      "text/plain": [
       "1533"
      ]
     },
     "execution_count": 65,
     "metadata": {},
     "output_type": "execute_result"
    }
   ],
   "source": [
    "set_cells"
   ]
  },
  {
   "cell_type": "code",
   "execution_count": 73,
   "id": "6eaf722c",
   "metadata": {},
   "outputs": [
    {
     "data": {
      "text/plain": [
       "282"
      ]
     },
     "execution_count": 73,
     "metadata": {},
     "output_type": "execute_result"
    }
   ],
   "source": [
    "np.count_nonzero(band1 == 0)"
   ]
  },
  {
   "cell_type": "code",
   "execution_count": 72,
   "id": "61f4a37b",
   "metadata": {},
   "outputs": [
    {
     "data": {
      "text/plain": [
       "1533"
      ]
     },
     "execution_count": 72,
     "metadata": {},
     "output_type": "execute_result"
    }
   ],
   "source": [
    "np.count_nonzero(band1 == 1)"
   ]
  },
  {
   "cell_type": "code",
   "execution_count": 71,
   "id": "00bb3577",
   "metadata": {},
   "outputs": [
    {
     "data": {
      "text/plain": [
       "0"
      ]
     },
     "execution_count": 71,
     "metadata": {},
     "output_type": "execute_result"
    }
   ],
   "source": [
    "np.count_nonzero(band1 == np.nan)"
   ]
  },
  {
   "cell_type": "code",
   "execution_count": 69,
   "id": "2a8b2f1d",
   "metadata": {},
   "outputs": [
    {
     "data": {
      "text/plain": [
       "3500"
      ]
     },
     "execution_count": 69,
     "metadata": {},
     "output_type": "execute_result"
    }
   ],
   "source": [
    "total_cells"
   ]
  },
  {
   "cell_type": "code",
   "execution_count": 62,
   "id": "ae301736",
   "metadata": {},
   "outputs": [
    {
     "data": {
      "image/png": "[encoded data removed]",
      "text/plain": [
       "<Figure size 432x288 with 1 Axes>"
      ]
     },
     "metadata": {
      "needs_background": "light"
     },
     "output_type": "display_data"
    }
   ],
   "source": [
    "plt.imshow(band1)\n",
    "plt.title(\"NDVI\")\n",
    "plt.show()"
   ]
  }
 ],
 "metadata": {
  "kernelspec": {
   "display_name": "Python 3 (ipykernel)",
   "language": "python",
   "name": "python3"
  },
  "language_info": {
   "codemirror_mode": {
    "name": "ipython",
    "version": 3
   },
   "file_extension": ".py",
   "mimetype": "text/x-python",
   "name": "python",
   "nbconvert_exporter": "python",
   "pygments_lexer": "ipython3",
   "version": "3.9.12"
  }
 },
 "nbformat": 4,
 "nbformat_minor": 5
}
