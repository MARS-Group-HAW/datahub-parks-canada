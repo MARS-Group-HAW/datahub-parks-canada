{
 "cells": [
  {
   "cell_type": "markdown",
   "id": "eec02458",
   "metadata": {},
   "source": [
    "# Data Hub Shapes\n",
    "\n",
    "The shapes in the Data Hub can be organized hirarchical, so you need to prepare your input shapes accordingly. The format is as follows:"
   ]
  },
  {
   "cell_type": "code",
   "execution_count": 92,
   "id": "84a37b07",
   "metadata": {},
   "outputs": [],
   "source": [
    "import pandas as pd\n",
    "import geopandas\n",
    "import matplotlib.pyplot as plt"
   ]
  },
  {
   "cell_type": "code",
   "execution_count": 93,
   "id": "3b81e91b",
   "metadata": {},
   "outputs": [
    {
     "data": {
      "text/html": [
       "<div>\n",
       "<style scoped>\n",
       "    .dataframe tbody tr th:only-of-type {\n",
       "        vertical-align: middle;\n",
       "    }\n",
       "\n",
       "    .dataframe tbody tr th {\n",
       "        vertical-align: top;\n",
       "    }\n",
       "\n",
       "    .dataframe thead th {\n",
       "        text-align: right;\n",
       "    }\n",
       "</style>\n",
       "<table border=\"1\" class=\"dataframe\">\n",
       "  <thead>\n",
       "    <tr style=\"text-align: right;\">\n",
       "      <th></th>\n",
       "      <th>id</th>\n",
       "      <th>name</th>\n",
       "      <th>type</th>\n",
       "      <th>parent_id</th>\n",
       "      <th>geometry</th>\n",
       "    </tr>\n",
       "  </thead>\n",
       "  <tbody>\n",
       "    <tr>\n",
       "      <th>0</th>\n",
       "      <td>1</td>\n",
       "      <td>Germany</td>\n",
       "      <td>country</td>\n",
       "      <td>NaN</td>\n",
       "      <td>...</td>\n",
       "    </tr>\n",
       "    <tr>\n",
       "      <th>1</th>\n",
       "      <td>2</td>\n",
       "      <td>Baden-Würtemberg</td>\n",
       "      <td>state</td>\n",
       "      <td>1.0</td>\n",
       "      <td>...</td>\n",
       "    </tr>\n",
       "    <tr>\n",
       "      <th>2</th>\n",
       "      <td>3</td>\n",
       "      <td>Hamburg</td>\n",
       "      <td>state</td>\n",
       "      <td>1.0</td>\n",
       "      <td>...</td>\n",
       "    </tr>\n",
       "    <tr>\n",
       "      <th>3</th>\n",
       "      <td>4</td>\n",
       "      <td>Tübingen</td>\n",
       "      <td>district</td>\n",
       "      <td>2.0</td>\n",
       "      <td>...</td>\n",
       "    </tr>\n",
       "    <tr>\n",
       "      <th>4</th>\n",
       "      <td>5</td>\n",
       "      <td>Reutlingen</td>\n",
       "      <td>district</td>\n",
       "      <td>2.0</td>\n",
       "      <td>...</td>\n",
       "    </tr>\n",
       "  </tbody>\n",
       "</table>\n",
       "</div>"
      ],
      "text/plain": [
       "   id              name      type  parent_id geometry\n",
       "0   1           Germany   country        NaN      ...\n",
       "1   2  Baden-Würtemberg     state        1.0      ...\n",
       "2   3           Hamburg     state        1.0      ...\n",
       "3   4          Tübingen  district        2.0      ...\n",
       "4   5        Reutlingen  district        2.0      ..."
      ]
     },
     "execution_count": 93,
     "metadata": {},
     "output_type": "execute_result"
    }
   ],
   "source": [
    "# Example of required structure for import of Shapes into Data Hub\n",
    "pd.DataFrame([{\n",
    "    'id': 1,\n",
    "    'name': 'Germany',\n",
    "    'type': 'country',\n",
    "    'parent_id': None,\n",
    "    'geometry': '...'\n",
    "},\n",
    "{\n",
    "    'id': 2,\n",
    "    'name': 'Baden-Würtemberg',\n",
    "    'type': 'state',\n",
    "    'parent_id': 1,\n",
    "    'geometry': '...',\n",
    "},\n",
    "{\n",
    "    'id': 3,\n",
    "    'name': 'Hamburg',\n",
    "    'type': 'state',\n",
    "    'parent_id': 1,\n",
    "    'geometry': '...',\n",
    "},\n",
    "{\n",
    "    'id': 4,\n",
    "    'name': 'Tübingen',\n",
    "    'type': 'district',\n",
    "    'parent_id': 2,\n",
    "    'geometry': '...'\n",
    "},\n",
    "{\n",
    "    'id': 5,\n",
    "    'name': 'Reutlingen',\n",
    "    'type': 'district',\n",
    "    'parent_id': 2,\n",
    "    'geometry': '...'\n",
    "}])"
   ]
  },
  {
   "cell_type": "markdown",
   "id": "2a2dd624",
   "metadata": {},
   "source": [
    "# Example preparation of Admin level 0, 1 and 2\n",
    "\n",
    "See Shape-File download: https://gadm.org/download_country.html"
   ]
  },
  {
   "cell_type": "code",
   "execution_count": 94,
   "id": "ec7dbc12",
   "metadata": {},
   "outputs": [],
   "source": [
    "gdf0 = geopandas.read_file('../input/shapes/gadm41_DEU_shp/gadm41_DEU_0.shp')\n",
    "gdf1 = geopandas.read_file('../input/shapes/gadm41_DEU_shp/gadm41_DEU_1.shp')\n",
    "gdf2 = geopandas.read_file('../input/shapes/gadm41_DEU_shp/gadm41_DEU_2.shp')"
   ]
  },
  {
   "cell_type": "code",
   "execution_count": 95,
   "id": "423e6a7a",
   "metadata": {},
   "outputs": [
    {
     "data": {
      "image/png": "[encoded data removed]",
      "text/plain": [
       "<Figure size 640x480 with 3 Axes>"
      ]
     },
     "metadata": {},
     "output_type": "display_data"
    }
   ],
   "source": [
    "fig, (ax0, ax1, ax2) = plt.subplots(1, 3)\n",
    "gdf0.plot(ax=ax0)\n",
    "gdf1.plot(ax=ax1)\n",
    "gdf2.plot(ax=ax2)\n",
    "\n",
    "ax0.set_title('Country')\n",
    "ax1.set_title('State')\n",
    "ax2.set_title('District')\n",
    "\n",
    "plt.show()"
   ]
  },
  {
   "cell_type": "markdown",
   "id": "7bc07955",
   "metadata": {},
   "source": [
    "# Prepare level0"
   ]
  },
  {
   "cell_type": "code",
   "execution_count": 96,
   "id": "784796a2",
   "metadata": {},
   "outputs": [
    {
     "data": {
      "text/html": [
       "<div>\n",
       "<style scoped>\n",
       "    .dataframe tbody tr th:only-of-type {\n",
       "        vertical-align: middle;\n",
       "    }\n",
       "\n",
       "    .dataframe tbody tr th {\n",
       "        vertical-align: top;\n",
       "    }\n",
       "\n",
       "    .dataframe thead th {\n",
       "        text-align: right;\n",
       "    }\n",
       "</style>\n",
       "<table border=\"1\" class=\"dataframe\">\n",
       "  <thead>\n",
       "    <tr style=\"text-align: right;\">\n",
       "      <th></th>\n",
       "      <th>GID_0</th>\n",
       "      <th>COUNTRY</th>\n",
       "      <th>geometry</th>\n",
       "    </tr>\n",
       "  </thead>\n",
       "  <tbody>\n",
       "    <tr>\n",
       "      <th>0</th>\n",
       "      <td>DEU</td>\n",
       "      <td>Germany</td>\n",
       "      <td>MULTIPOLYGON (((7.98642 47.55553, 7.98445 47.5...</td>\n",
       "    </tr>\n",
       "  </tbody>\n",
       "</table>\n",
       "</div>"
      ],
      "text/plain": [
       "  GID_0  COUNTRY                                           geometry\n",
       "0   DEU  Germany  MULTIPOLYGON (((7.98642 47.55553, 7.98445 47.5..."
      ]
     },
     "execution_count": 96,
     "metadata": {},
     "output_type": "execute_result"
    }
   ],
   "source": [
    "gdf0"
   ]
  },
  {
   "cell_type": "code",
   "execution_count": 97,
   "id": "0d81977a",
   "metadata": {},
   "outputs": [],
   "source": [
    "# Remove uneeded columns\n",
    "gdf0_new = gdf0.drop(columns=['GID_0'])\n",
    "\n",
    "# Rename\n",
    "gdf0_new = gdf0_new.rename(columns={'COUNTRY': 'name'})\n",
    "\n",
    "# Add type columns\n",
    "gdf0_new['type'] = 'country'\n",
    "gdf0_new['parent_name'] = pd.NA # this is not applicable for our top-most shape type"
   ]
  },
  {
   "cell_type": "code",
   "execution_count": 98,
   "id": "50bc97fa",
   "metadata": {},
   "outputs": [
    {
     "data": {
      "text/html": [
       "<div>\n",
       "<style scoped>\n",
       "    .dataframe tbody tr th:only-of-type {\n",
       "        vertical-align: middle;\n",
       "    }\n",
       "\n",
       "    .dataframe tbody tr th {\n",
       "        vertical-align: top;\n",
       "    }\n",
       "\n",
       "    .dataframe thead th {\n",
       "        text-align: right;\n",
       "    }\n",
       "</style>\n",
       "<table border=\"1\" class=\"dataframe\">\n",
       "  <thead>\n",
       "    <tr style=\"text-align: right;\">\n",
       "      <th></th>\n",
       "      <th>name</th>\n",
       "      <th>geometry</th>\n",
       "      <th>type</th>\n",
       "      <th>parent_name</th>\n",
       "    </tr>\n",
       "  </thead>\n",
       "  <tbody>\n",
       "    <tr>\n",
       "      <th>0</th>\n",
       "      <td>Germany</td>\n",
       "      <td>MULTIPOLYGON (((7.98642 47.55553, 7.98445 47.5...</td>\n",
       "      <td>country</td>\n",
       "      <td>&lt;NA&gt;</td>\n",
       "    </tr>\n",
       "  </tbody>\n",
       "</table>\n",
       "</div>"
      ],
      "text/plain": [
       "      name                                           geometry     type  \\\n",
       "0  Germany  MULTIPOLYGON (((7.98642 47.55553, 7.98445 47.5...  country   \n",
       "\n",
       "  parent_name  \n",
       "0        <NA>  "
      ]
     },
     "execution_count": 98,
     "metadata": {},
     "output_type": "execute_result"
    }
   ],
   "source": [
    "gdf0_new"
   ]
  },
  {
   "cell_type": "markdown",
   "id": "de0faba7",
   "metadata": {},
   "source": [
    "# Prepare level1"
   ]
  },
  {
   "cell_type": "code",
   "execution_count": 99,
   "id": "4d4ce30e",
   "metadata": {},
   "outputs": [
    {
     "data": {
      "text/html": [
       "<div>\n",
       "<style scoped>\n",
       "    .dataframe tbody tr th:only-of-type {\n",
       "        vertical-align: middle;\n",
       "    }\n",
       "\n",
       "    .dataframe tbody tr th {\n",
       "        vertical-align: top;\n",
       "    }\n",
       "\n",
       "    .dataframe thead th {\n",
       "        text-align: right;\n",
       "    }\n",
       "</style>\n",
       "<table border=\"1\" class=\"dataframe\">\n",
       "  <thead>\n",
       "    <tr style=\"text-align: right;\">\n",
       "      <th></th>\n",
       "      <th>GID_1</th>\n",
       "      <th>GID_0</th>\n",
       "      <th>COUNTRY</th>\n",
       "      <th>NAME_1</th>\n",
       "      <th>VARNAME_1</th>\n",
       "      <th>NL_NAME_1</th>\n",
       "      <th>TYPE_1</th>\n",
       "      <th>ENGTYPE_1</th>\n",
       "      <th>CC_1</th>\n",
       "      <th>HASC_1</th>\n",
       "      <th>ISO_1</th>\n",
       "      <th>geometry</th>\n",
       "    </tr>\n",
       "  </thead>\n",
       "  <tbody>\n",
       "    <tr>\n",
       "      <th>0</th>\n",
       "      <td>DEU.1_1</td>\n",
       "      <td>DEU</td>\n",
       "      <td>Germany</td>\n",
       "      <td>Baden-Württemberg</td>\n",
       "      <td>NA</td>\n",
       "      <td>NA</td>\n",
       "      <td>Land</td>\n",
       "      <td>State</td>\n",
       "      <td>08</td>\n",
       "      <td>DE.BW</td>\n",
       "      <td>NA</td>\n",
       "      <td>MULTIPOLYGON (((8.35002 47.57062, 8.34778 47.5...</td>\n",
       "    </tr>\n",
       "    <tr>\n",
       "      <th>1</th>\n",
       "      <td>DEU.2_1</td>\n",
       "      <td>DEU</td>\n",
       "      <td>Germany</td>\n",
       "      <td>Bayern</td>\n",
       "      <td>Bavaria</td>\n",
       "      <td>NA</td>\n",
       "      <td>Freistaat</td>\n",
       "      <td>Free State</td>\n",
       "      <td>09</td>\n",
       "      <td>DE.BY</td>\n",
       "      <td>DE-BY</td>\n",
       "      <td>POLYGON ((11.41009 47.49540, 11.41005 47.49536...</td>\n",
       "    </tr>\n",
       "    <tr>\n",
       "      <th>2</th>\n",
       "      <td>DEU.3_1</td>\n",
       "      <td>DEU</td>\n",
       "      <td>Germany</td>\n",
       "      <td>Berlin</td>\n",
       "      <td>NA</td>\n",
       "      <td>NA</td>\n",
       "      <td>Land</td>\n",
       "      <td>State</td>\n",
       "      <td>11</td>\n",
       "      <td>DE.BE</td>\n",
       "      <td>DE-BE</td>\n",
       "      <td>POLYGON ((13.50022 52.61379, 13.49855 52.61068...</td>\n",
       "    </tr>\n",
       "  </tbody>\n",
       "</table>\n",
       "</div>"
      ],
      "text/plain": [
       "     GID_1 GID_0  COUNTRY             NAME_1 VARNAME_1 NL_NAME_1     TYPE_1  \\\n",
       "0  DEU.1_1   DEU  Germany  Baden-Württemberg        NA        NA       Land   \n",
       "1  DEU.2_1   DEU  Germany             Bayern   Bavaria        NA  Freistaat   \n",
       "2  DEU.3_1   DEU  Germany             Berlin        NA        NA       Land   \n",
       "\n",
       "    ENGTYPE_1 CC_1 HASC_1  ISO_1  \\\n",
       "0       State   08  DE.BW     NA   \n",
       "1  Free State   09  DE.BY  DE-BY   \n",
       "2       State   11  DE.BE  DE-BE   \n",
       "\n",
       "                                            geometry  \n",
       "0  MULTIPOLYGON (((8.35002 47.57062, 8.34778 47.5...  \n",
       "1  POLYGON ((11.41009 47.49540, 11.41005 47.49536...  \n",
       "2  POLYGON ((13.50022 52.61379, 13.49855 52.61068...  "
      ]
     },
     "execution_count": 99,
     "metadata": {},
     "output_type": "execute_result"
    }
   ],
   "source": [
    "gdf1.head(3)"
   ]
  },
  {
   "cell_type": "code",
   "execution_count": 100,
   "id": "7225dd7b",
   "metadata": {},
   "outputs": [],
   "source": [
    "# Remove uneeded columns\n",
    "gdf1_new = gdf1[['COUNTRY', 'NAME_1', 'geometry']]\n",
    "\n",
    "# Rename\n",
    "gdf1_new = gdf1_new.rename(columns={\n",
    "    'COUNTRY': 'parent_name', \n",
    "    'NAME_1': 'name'\n",
    "})\n",
    "\n",
    "# Add type columns\n",
    "gdf1_new['type'] = 'state'"
   ]
  },
  {
   "cell_type": "code",
   "execution_count": 101,
   "id": "8e91a944",
   "metadata": {},
   "outputs": [
    {
     "data": {
      "text/html": [
       "<div>\n",
       "<style scoped>\n",
       "    .dataframe tbody tr th:only-of-type {\n",
       "        vertical-align: middle;\n",
       "    }\n",
       "\n",
       "    .dataframe tbody tr th {\n",
       "        vertical-align: top;\n",
       "    }\n",
       "\n",
       "    .dataframe thead th {\n",
       "        text-align: right;\n",
       "    }\n",
       "</style>\n",
       "<table border=\"1\" class=\"dataframe\">\n",
       "  <thead>\n",
       "    <tr style=\"text-align: right;\">\n",
       "      <th></th>\n",
       "      <th>parent_name</th>\n",
       "      <th>name</th>\n",
       "      <th>geometry</th>\n",
       "      <th>type</th>\n",
       "    </tr>\n",
       "  </thead>\n",
       "  <tbody>\n",
       "    <tr>\n",
       "      <th>0</th>\n",
       "      <td>Germany</td>\n",
       "      <td>Baden-Württemberg</td>\n",
       "      <td>MULTIPOLYGON (((8.35002 47.57062, 8.34778 47.5...</td>\n",
       "      <td>state</td>\n",
       "    </tr>\n",
       "    <tr>\n",
       "      <th>1</th>\n",
       "      <td>Germany</td>\n",
       "      <td>Bayern</td>\n",
       "      <td>POLYGON ((11.41009 47.49540, 11.41005 47.49536...</td>\n",
       "      <td>state</td>\n",
       "    </tr>\n",
       "    <tr>\n",
       "      <th>2</th>\n",
       "      <td>Germany</td>\n",
       "      <td>Berlin</td>\n",
       "      <td>POLYGON ((13.50022 52.61379, 13.49855 52.61068...</td>\n",
       "      <td>state</td>\n",
       "    </tr>\n",
       "  </tbody>\n",
       "</table>\n",
       "</div>"
      ],
      "text/plain": [
       "  parent_name               name  \\\n",
       "0     Germany  Baden-Württemberg   \n",
       "1     Germany             Bayern   \n",
       "2     Germany             Berlin   \n",
       "\n",
       "                                            geometry   type  \n",
       "0  MULTIPOLYGON (((8.35002 47.57062, 8.34778 47.5...  state  \n",
       "1  POLYGON ((11.41009 47.49540, 11.41005 47.49536...  state  \n",
       "2  POLYGON ((13.50022 52.61379, 13.49855 52.61068...  state  "
      ]
     },
     "execution_count": 101,
     "metadata": {},
     "output_type": "execute_result"
    }
   ],
   "source": [
    "gdf1_new.head(3)"
   ]
  },
  {
   "cell_type": "markdown",
   "id": "da24c559",
   "metadata": {},
   "source": [
    "# Prepare level2"
   ]
  },
  {
   "cell_type": "code",
   "execution_count": 102,
   "id": "5f7656d1",
   "metadata": {},
   "outputs": [
    {
     "data": {
      "text/html": [
       "<div>\n",
       "<style scoped>\n",
       "    .dataframe tbody tr th:only-of-type {\n",
       "        vertical-align: middle;\n",
       "    }\n",
       "\n",
       "    .dataframe tbody tr th {\n",
       "        vertical-align: top;\n",
       "    }\n",
       "\n",
       "    .dataframe thead th {\n",
       "        text-align: right;\n",
       "    }\n",
       "</style>\n",
       "<table border=\"1\" class=\"dataframe\">\n",
       "  <thead>\n",
       "    <tr style=\"text-align: right;\">\n",
       "      <th></th>\n",
       "      <th>GID_2</th>\n",
       "      <th>GID_0</th>\n",
       "      <th>COUNTRY</th>\n",
       "      <th>GID_1</th>\n",
       "      <th>NAME_1</th>\n",
       "      <th>NL_NAME_1</th>\n",
       "      <th>NAME_2</th>\n",
       "      <th>VARNAME_2</th>\n",
       "      <th>NL_NAME_2</th>\n",
       "      <th>TYPE_2</th>\n",
       "      <th>ENGTYPE_2</th>\n",
       "      <th>CC_2</th>\n",
       "      <th>HASC_2</th>\n",
       "      <th>geometry</th>\n",
       "    </tr>\n",
       "  </thead>\n",
       "  <tbody>\n",
       "    <tr>\n",
       "      <th>0</th>\n",
       "      <td>DEU.1.1_1</td>\n",
       "      <td>DEU</td>\n",
       "      <td>Germany</td>\n",
       "      <td>DEU.1_1</td>\n",
       "      <td>Baden-Württemberg</td>\n",
       "      <td>NA</td>\n",
       "      <td>Alb-Donau-Kreis</td>\n",
       "      <td>NA</td>\n",
       "      <td>NA</td>\n",
       "      <td>Landkreis</td>\n",
       "      <td>District</td>\n",
       "      <td>08425</td>\n",
       "      <td>DE.BW.AD</td>\n",
       "      <td>POLYGON ((9.67322 48.17136, 9.67410 48.16991, ...</td>\n",
       "    </tr>\n",
       "    <tr>\n",
       "      <th>1</th>\n",
       "      <td>DEU.1.2_1</td>\n",
       "      <td>DEU</td>\n",
       "      <td>Germany</td>\n",
       "      <td>DEU.1_1</td>\n",
       "      <td>Baden-Württemberg</td>\n",
       "      <td>NA</td>\n",
       "      <td>Baden-Baden</td>\n",
       "      <td>NA</td>\n",
       "      <td>NA</td>\n",
       "      <td>Stadtkreis</td>\n",
       "      <td>District</td>\n",
       "      <td>08211</td>\n",
       "      <td>DE.BW.BB</td>\n",
       "      <td>MULTIPOLYGON (((8.11805 48.73807, 8.11372 48.7...</td>\n",
       "    </tr>\n",
       "    <tr>\n",
       "      <th>2</th>\n",
       "      <td>DEU.1.3_1</td>\n",
       "      <td>DEU</td>\n",
       "      <td>Germany</td>\n",
       "      <td>DEU.1_1</td>\n",
       "      <td>Baden-Württemberg</td>\n",
       "      <td>NA</td>\n",
       "      <td>Biberach</td>\n",
       "      <td>NA</td>\n",
       "      <td>NA</td>\n",
       "      <td>Landkreis</td>\n",
       "      <td>District</td>\n",
       "      <td>08426</td>\n",
       "      <td>DE.BW.BR</td>\n",
       "      <td>POLYGON ((9.75139 47.97439, 9.75106 47.97507, ...</td>\n",
       "    </tr>\n",
       "  </tbody>\n",
       "</table>\n",
       "</div>"
      ],
      "text/plain": [
       "       GID_2 GID_0  COUNTRY    GID_1             NAME_1 NL_NAME_1  \\\n",
       "0  DEU.1.1_1   DEU  Germany  DEU.1_1  Baden-Württemberg        NA   \n",
       "1  DEU.1.2_1   DEU  Germany  DEU.1_1  Baden-Württemberg        NA   \n",
       "2  DEU.1.3_1   DEU  Germany  DEU.1_1  Baden-Württemberg        NA   \n",
       "\n",
       "            NAME_2 VARNAME_2 NL_NAME_2      TYPE_2 ENGTYPE_2   CC_2    HASC_2  \\\n",
       "0  Alb-Donau-Kreis        NA        NA   Landkreis  District  08425  DE.BW.AD   \n",
       "1      Baden-Baden        NA        NA  Stadtkreis  District  08211  DE.BW.BB   \n",
       "2         Biberach        NA        NA   Landkreis  District  08426  DE.BW.BR   \n",
       "\n",
       "                                            geometry  \n",
       "0  POLYGON ((9.67322 48.17136, 9.67410 48.16991, ...  \n",
       "1  MULTIPOLYGON (((8.11805 48.73807, 8.11372 48.7...  \n",
       "2  POLYGON ((9.75139 47.97439, 9.75106 47.97507, ...  "
      ]
     },
     "execution_count": 102,
     "metadata": {},
     "output_type": "execute_result"
    }
   ],
   "source": [
    "gdf2.head(3)"
   ]
  },
  {
   "cell_type": "code",
   "execution_count": 103,
   "id": "f3e93ce5",
   "metadata": {},
   "outputs": [],
   "source": [
    "# Remove uneeded columns\n",
    "gdf2_new = gdf2[['NAME_1', 'NAME_2', 'geometry']]\n",
    "\n",
    "# Rename\n",
    "gdf2_new = gdf2_new.rename(columns={\n",
    "    'NAME_1': 'parent_name', \n",
    "    'NAME_2': 'name'\n",
    "})\n",
    "\n",
    "# Add type columns\n",
    "gdf2_new['type'] = 'district'"
   ]
  },
  {
   "cell_type": "code",
   "execution_count": 104,
   "id": "e2d06c75",
   "metadata": {},
   "outputs": [
    {
     "data": {
      "text/html": [
       "<div>\n",
       "<style scoped>\n",
       "    .dataframe tbody tr th:only-of-type {\n",
       "        vertical-align: middle;\n",
       "    }\n",
       "\n",
       "    .dataframe tbody tr th {\n",
       "        vertical-align: top;\n",
       "    }\n",
       "\n",
       "    .dataframe thead th {\n",
       "        text-align: right;\n",
       "    }\n",
       "</style>\n",
       "<table border=\"1\" class=\"dataframe\">\n",
       "  <thead>\n",
       "    <tr style=\"text-align: right;\">\n",
       "      <th></th>\n",
       "      <th>parent_name</th>\n",
       "      <th>name</th>\n",
       "      <th>geometry</th>\n",
       "      <th>type</th>\n",
       "    </tr>\n",
       "  </thead>\n",
       "  <tbody>\n",
       "    <tr>\n",
       "      <th>0</th>\n",
       "      <td>Baden-Württemberg</td>\n",
       "      <td>Alb-Donau-Kreis</td>\n",
       "      <td>POLYGON ((9.67322 48.17136, 9.67410 48.16991, ...</td>\n",
       "      <td>district</td>\n",
       "    </tr>\n",
       "    <tr>\n",
       "      <th>1</th>\n",
       "      <td>Baden-Württemberg</td>\n",
       "      <td>Baden-Baden</td>\n",
       "      <td>MULTIPOLYGON (((8.11805 48.73807, 8.11372 48.7...</td>\n",
       "      <td>district</td>\n",
       "    </tr>\n",
       "    <tr>\n",
       "      <th>2</th>\n",
       "      <td>Baden-Württemberg</td>\n",
       "      <td>Biberach</td>\n",
       "      <td>POLYGON ((9.75139 47.97439, 9.75106 47.97507, ...</td>\n",
       "      <td>district</td>\n",
       "    </tr>\n",
       "  </tbody>\n",
       "</table>\n",
       "</div>"
      ],
      "text/plain": [
       "         parent_name             name  \\\n",
       "0  Baden-Württemberg  Alb-Donau-Kreis   \n",
       "1  Baden-Württemberg      Baden-Baden   \n",
       "2  Baden-Württemberg         Biberach   \n",
       "\n",
       "                                            geometry      type  \n",
       "0  POLYGON ((9.67322 48.17136, 9.67410 48.16991, ...  district  \n",
       "1  MULTIPOLYGON (((8.11805 48.73807, 8.11372 48.7...  district  \n",
       "2  POLYGON ((9.75139 47.97439, 9.75106 47.97507, ...  district  "
      ]
     },
     "execution_count": 104,
     "metadata": {},
     "output_type": "execute_result"
    }
   ],
   "source": [
    "gdf2_new.head(3)"
   ]
  },
  {
   "cell_type": "code",
   "execution_count": 105,
   "id": "b44c02df",
   "metadata": {},
   "outputs": [],
   "source": [
    "gdf012 = pd.concat([gdf0_new, gdf1_new, gdf2_new]).reset_index(drop=True)\n",
    "gdf012.insert(0, 'id', range(1, len(gdf012)+1))"
   ]
  },
  {
   "cell_type": "code",
   "execution_count": 137,
   "id": "c61dfbc5",
   "metadata": {},
   "outputs": [],
   "source": [
    "def get_id_for_name(name):\n",
    "    dfx = gdf012[gdf012['name'] == name].reset_index(drop=True)\n",
    "    \n",
    "    if (len(dfx) == 0):\n",
    "        return None\n",
    "    return dfx.at[0, 'id']\n",
    "\n",
    "gdf012['parent_id'] = gdf012['parent_name'].apply(get_id_for_name)"
   ]
  },
  {
   "cell_type": "code",
   "execution_count": 143,
   "id": "658bb560",
   "metadata": {},
   "outputs": [],
   "source": [
    "gdf012_final = gdf012.drop(columns=['parent_name'])"
   ]
  },
  {
   "cell_type": "code",
   "execution_count": 144,
   "id": "c37da1c7",
   "metadata": {},
   "outputs": [
    {
     "name": "stdout",
     "output_type": "stream",
     "text": [
      "<class 'geopandas.geodataframe.GeoDataFrame'>\n",
      "RangeIndex: 420 entries, 0 to 419\n",
      "Data columns (total 5 columns):\n",
      " #   Column     Non-Null Count  Dtype   \n",
      "---  ------     --------------  -----   \n",
      " 0   id         420 non-null    int64   \n",
      " 1   name       420 non-null    object  \n",
      " 2   geometry   420 non-null    geometry\n",
      " 3   type       420 non-null    object  \n",
      " 4   parent_id  419 non-null    float64 \n",
      "dtypes: float64(1), geometry(1), int64(1), object(2)\n",
      "memory usage: 16.5+ KB\n"
     ]
    }
   ],
   "source": [
    "gdf012_final.info()"
   ]
  },
  {
   "cell_type": "code",
   "execution_count": 145,
   "id": "37077071",
   "metadata": {},
   "outputs": [],
   "source": [
    "gdf012_final.to_file('../input/shapes/gadm41_DEU_shp/datahub_shapes_DEU.shp', index=False)"
   ]
  }
 ],
 "metadata": {
  "kernelspec": {
   "display_name": "3.11.0",
   "language": "python",
   "name": "pyenv_3.11.0"
  },
  "language_info": {
   "codemirror_mode": {
    "name": "ipython",
    "version": 3
   },
   "file_extension": ".py",
   "mimetype": "text/x-python",
   "name": "python",
   "nbconvert_exporter": "python",
   "pygments_lexer": "ipython3",
   "version": "3.11.0"
  }
 },
 "nbformat": 4,
 "nbformat_minor": 5
}
