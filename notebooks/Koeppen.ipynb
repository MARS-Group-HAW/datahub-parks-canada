{
 "cells": [
  {
   "cell_type": "code",
   "execution_count": 2,
   "id": "6b0e4e34",
   "metadata": {},
   "outputs": [],
   "source": [
    "import pandas as pd\n",
    "import geopandas\n",
    "\n",
    "# prevent false warning\n",
    "# https://stackoverflow.com/questions/20625582/how-to-deal-with-settingwithcopywarning-in-pandas\n",
    "pd.options.mode.chained_assignment = None  # default='warn'\n",
    "\n",
    "import matplotlib.pyplot as plt\n",
    "import matplotlib.ticker as mtick\n",
    "import numpy as np\n",
    "\n",
    "import rasterio\n",
    "from rasterio.plot import show\n",
    "import fiona\n",
    "import rasterio\n",
    "import rasterio.mask\n",
    "\n",
    "import matplotlib.colors"
   ]
  },
  {
   "cell_type": "code",
   "execution_count": 7,
   "id": "a3e82731",
   "metadata": {},
   "outputs": [],
   "source": [
    "tiff = '../input/data/koeppen/Beck_KG_V1_present_0p0083.tif'\n",
    "mask = '../input/shapes/Districts/Mtwara DC.shp'"
   ]
  },
  {
   "cell_type": "code",
   "execution_count": 8,
   "id": "c7ecce77",
   "metadata": {},
   "outputs": [],
   "source": [
    "with fiona.open(mask, \"r\") as shapefile:\n",
    "    shapes = [feature[\"geometry\"] for feature in shapefile]"
   ]
  },
  {
   "cell_type": "code",
   "execution_count": 67,
   "id": "ca11c649",
   "metadata": {},
   "outputs": [],
   "source": [
    "with rasterio.open(tiff) as src:\n",
    "    nodata=src.nodata\n",
    "    nodata=0\n",
    "    color = src.colormap(1)\n",
    "    \n",
    "    # complete image\n",
    "    band1_all = src.read(1, masked=True)\n",
    "    \n",
    "    # cut image\n",
    "    out_image, out_transform = rasterio.mask.mask(src, shapes, crop=True, nodata=nodata)\n",
    "    out_meta = src.meta\n",
    "    band1_cut = out_image[0]\n",
    "    band1_cut = band1_cut.astype(np.float32)\n",
    "    band1_cut[band1_cut==nodata] = np.nan"
   ]
  },
  {
   "cell_type": "code",
   "execution_count": 68,
   "id": "2c7c344f",
   "metadata": {},
   "outputs": [
    {
     "data": {
      "text/plain": [
       "array([[nan, nan, nan, ..., nan, nan, nan],\n",
       "       [nan, nan, nan, ..., nan, nan, nan],\n",
       "       [nan, nan, nan, ..., nan, nan, nan],\n",
       "       ...,\n",
       "       [nan, nan, nan, ..., nan, nan, nan],\n",
       "       [nan, nan, nan, ..., nan, nan, nan],\n",
       "       [nan, nan, nan, ..., nan, nan, nan]], dtype=float32)"
      ]
     },
     "execution_count": 68,
     "metadata": {},
     "output_type": "execute_result"
    }
   ],
   "source": [
    "band1_cut"
   ]
  },
  {
   "cell_type": "code",
   "execution_count": 38,
   "id": "f508f25c",
   "metadata": {},
   "outputs": [],
   "source": [
    "palette = np.array(list(color.values()))\n",
    "\n",
    "# drop alpha channel\n",
    "palette = np.delete(palette, -1, axis=1)\n",
    "\n",
    "# rgb values need to be defined between 0 and 1, so divide by 255\n",
    "cmap = matplotlib.colors.ListedColormap(palette / 255)"
   ]
  },
  {
   "cell_type": "code",
   "execution_count": 44,
   "id": "c86a1893",
   "metadata": {},
   "outputs": [
    {
     "data": {
      "image/png": "[encoded data removed]",
      "text/plain": [
       "<Figure size 432x288 with 1 Axes>"
      ]
     },
     "metadata": {
      "needs_background": "light"
     },
     "output_type": "display_data"
    }
   ],
   "source": [
    "# test color map\n",
    "plt.imshow([[1, 2, 3], \n",
    "            [np.nan, np.nan, np.nan],\n",
    "            [4, 5, 6],\n",
    "            [7, np.nan, np.nan],\n",
    "            [np.nan, np.nan, np.nan],\n",
    "           ], cmap=cmap, vmin=0, vmax=255, interpolation='none')\n",
    "plt.show()"
   ]
  },
  {
   "cell_type": "code",
   "execution_count": 45,
   "id": "76ade0ad",
   "metadata": {},
   "outputs": [
    {
     "data": {
      "text/plain": [
       "(masked_array(data=[ 0,  1,  2,  3,  4,  5,  6,  7,  8,  9, 10, 11, 12, 13,\n",
       "                    14, 15, 16, 17, 18, 19, 20, 21, 22, 23, 24, 25, 26, 27,\n",
       "                    28, 29, 30],\n",
       "              mask=False,\n",
       "        fill_value=999999,\n",
       "             dtype=uint8),\n",
       " array([623841870,   8296822,   6033532,  20101609,  27916852,  11678445,\n",
       "          9805477,  13995377,   2079073,   1235853,     12433,   5337845,\n",
       "          2179837,      8667,   7539294,   3972955,    195886,    369836,\n",
       "           899422,   4076074,    178672,   1861694,   1957544,   5864640,\n",
       "           619687,   3169936,  13651363,  37508233,   1772615,  22102995,\n",
       "         94855462]))"
      ]
     },
     "execution_count": 45,
     "metadata": {},
     "output_type": "execute_result"
    }
   ],
   "source": [
    "np.unique(band1_all, return_counts=True)"
   ]
  },
  {
   "cell_type": "code",
   "execution_count": 46,
   "id": "fca044c9",
   "metadata": {},
   "outputs": [
    {
     "data": {
      "image/png": "[encoded data removed]",
      "text/plain": [
       "<Figure size 432x288 with 1 Axes>"
      ]
     },
     "metadata": {
      "needs_background": "light"
     },
     "output_type": "display_data"
    }
   ],
   "source": [
    "plt.imshow(band1_all, cmap=cmap, vmin=0, vmax=255, interpolation='none')\n",
    "plt.show()"
   ]
  },
  {
   "cell_type": "code",
   "execution_count": 69,
   "id": "c69829dd",
   "metadata": {},
   "outputs": [
    {
     "data": {
      "text/plain": [
       "(array([ 3., nan], dtype=float32), array([2246, 2906]))"
      ]
     },
     "execution_count": 69,
     "metadata": {},
     "output_type": "execute_result"
    }
   ],
   "source": [
    "np.unique(band1_cut, return_counts=True)"
   ]
  },
  {
   "cell_type": "code",
   "execution_count": 73,
   "id": "84b46715",
   "metadata": {
    "scrolled": true
   },
   "outputs": [
    {
     "data": {
      "text/plain": [
       "2246"
      ]
     },
     "execution_count": 73,
     "metadata": {},
     "output_type": "execute_result"
    }
   ],
   "source": [
    "np.count_nonzero(~np.isnan(band1_cut))"
   ]
  },
  {
   "cell_type": "code",
   "execution_count": 71,
   "id": "eba8f507",
   "metadata": {
    "scrolled": true
   },
   "outputs": [
    {
     "data": {
      "image/png": "[encoded data removed]",
      "text/plain": [
       "<Figure size 432x288 with 1 Axes>"
      ]
     },
     "metadata": {
      "needs_background": "light"
     },
     "output_type": "display_data"
    }
   ],
   "source": [
    "plt.imshow(band1_cut, cmap=cmap, vmin=0, vmax=255, interpolation='none')\n",
    "plt.show()"
   ]
  },
  {
   "cell_type": "code",
   "execution_count": 74,
   "id": "bc9b9b0f",
   "metadata": {},
   "outputs": [
    {
     "data": {
      "text/plain": [
       "array([[nan, nan, nan, ..., nan, nan, nan],\n",
       "       [nan, nan, nan, ..., nan, nan, nan],\n",
       "       [nan, nan, nan, ..., nan, nan, nan],\n",
       "       ...,\n",
       "       [nan, nan, nan, ..., nan, nan, nan],\n",
       "       [nan, nan, nan, ..., nan, nan, nan],\n",
       "       [nan, nan, nan, ..., nan, nan, nan]], dtype=float32)"
      ]
     },
     "execution_count": 74,
     "metadata": {},
     "output_type": "execute_result"
    }
   ],
   "source": [
    "band1_cut"
   ]
  }
 ],
 "metadata": {
  "kernelspec": {
   "display_name": "Python 3 (ipykernel)",
   "language": "python",
   "name": "python3"
  },
  "language_info": {
   "codemirror_mode": {
    "name": "ipython",
    "version": 3
   },
   "file_extension": ".py",
   "mimetype": "text/x-python",
   "name": "python",
   "nbconvert_exporter": "python",
   "pygments_lexer": "ipython3",
   "version": "3.9.13"
  }
 },
 "nbformat": 4,
 "nbformat_minor": 5
}
