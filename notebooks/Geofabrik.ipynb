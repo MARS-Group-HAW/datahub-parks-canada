{
 "cells": [
  {
   "cell_type": "code",
   "execution_count": 3,
   "id": "be38178d",
   "metadata": {},
   "outputs": [],
   "source": [
    "import geopandas\n",
    "import pandas as pd\n",
    "\n",
    "# prevent false warning\n",
    "# https://stackoverflow.com/questions/20625582/how-to-deal-with-settingwithcopywarning-in-pandas\n",
    "pd.options.mode.chained_assignment = None  # default='warn'\n",
    "\n",
    "import matplotlib.pyplot as plt\n",
    "import matplotlib.ticker as mtick\n",
    "import numpy as np\n",
    "\n",
    "import shapely"
   ]
  },
  {
   "cell_type": "code",
   "execution_count": 25,
   "id": "4c87c0d2",
   "metadata": {},
   "outputs": [],
   "source": [
    "pofw_gdf = geopandas.read_file('../input/data/geofabrik_pois/gis_osm_pofw_free_1.shp')\n",
    "pofw_gdf['_src'] = 'pofw'"
   ]
  },
  {
   "cell_type": "code",
   "execution_count": 41,
   "id": "07a05952",
   "metadata": {},
   "outputs": [
    {
     "data": {
      "text/html": [
       "<div>\n",
       "<style scoped>\n",
       "    .dataframe tbody tr th:only-of-type {\n",
       "        vertical-align: middle;\n",
       "    }\n",
       "\n",
       "    .dataframe tbody tr th {\n",
       "        vertical-align: top;\n",
       "    }\n",
       "\n",
       "    .dataframe thead th {\n",
       "        text-align: right;\n",
       "    }\n",
       "</style>\n",
       "<table border=\"1\" class=\"dataframe\">\n",
       "  <thead>\n",
       "    <tr style=\"text-align: right;\">\n",
       "      <th></th>\n",
       "      <th>osm_id</th>\n",
       "      <th>code</th>\n",
       "      <th>fclass</th>\n",
       "      <th>name</th>\n",
       "      <th>geometry</th>\n",
       "      <th>_src</th>\n",
       "    </tr>\n",
       "  </thead>\n",
       "  <tbody>\n",
       "    <tr>\n",
       "      <th>0</th>\n",
       "      <td>31556986</td>\n",
       "      <td>3300</td>\n",
       "      <td>muslim</td>\n",
       "      <td>None</td>\n",
       "      <td>POINT (39.25165 -5.99137)</td>\n",
       "      <td>pofw</td>\n",
       "    </tr>\n",
       "    <tr>\n",
       "      <th>1</th>\n",
       "      <td>274949978</td>\n",
       "      <td>3500</td>\n",
       "      <td>hindu</td>\n",
       "      <td>Hindu Temple</td>\n",
       "      <td>POINT (39.10350 -5.07353)</td>\n",
       "      <td>pofw</td>\n",
       "    </tr>\n",
       "  </tbody>\n",
       "</table>\n",
       "</div>"
      ],
      "text/plain": [
       "      osm_id  code  fclass          name                   geometry  _src\n",
       "0   31556986  3300  muslim          None  POINT (39.25165 -5.99137)  pofw\n",
       "1  274949978  3500   hindu  Hindu Temple  POINT (39.10350 -5.07353)  pofw"
      ]
     },
     "execution_count": 41,
     "metadata": {},
     "output_type": "execute_result"
    }
   ],
   "source": [
    "pofw_gdf.head(2)"
   ]
  },
  {
   "cell_type": "code",
   "execution_count": 26,
   "id": "ad6f7d85",
   "metadata": {},
   "outputs": [
    {
     "data": {
      "text/plain": [
       "2198"
      ]
     },
     "execution_count": 26,
     "metadata": {},
     "output_type": "execute_result"
    }
   ],
   "source": [
    "len(pofw_gdf)"
   ]
  },
  {
   "cell_type": "code",
   "execution_count": 27,
   "id": "00e57719",
   "metadata": {},
   "outputs": [],
   "source": [
    "pois_gdf = geopandas.read_file('../input/data/geofabrik_pois/gis_osm_pois_free_1.shp')\n",
    "pois_gdf['_src'] = 'pois'"
   ]
  },
  {
   "cell_type": "code",
   "execution_count": 40,
   "id": "75d08234",
   "metadata": {},
   "outputs": [
    {
     "data": {
      "text/html": [
       "<div>\n",
       "<style scoped>\n",
       "    .dataframe tbody tr th:only-of-type {\n",
       "        vertical-align: middle;\n",
       "    }\n",
       "\n",
       "    .dataframe tbody tr th {\n",
       "        vertical-align: top;\n",
       "    }\n",
       "\n",
       "    .dataframe thead th {\n",
       "        text-align: right;\n",
       "    }\n",
       "</style>\n",
       "<table border=\"1\" class=\"dataframe\">\n",
       "  <thead>\n",
       "    <tr style=\"text-align: right;\">\n",
       "      <th></th>\n",
       "      <th>osm_id</th>\n",
       "      <th>code</th>\n",
       "      <th>fclass</th>\n",
       "      <th>name</th>\n",
       "      <th>geometry</th>\n",
       "      <th>_src</th>\n",
       "    </tr>\n",
       "  </thead>\n",
       "  <tbody>\n",
       "    <tr>\n",
       "      <th>0</th>\n",
       "      <td>31553367</td>\n",
       "      <td>2301</td>\n",
       "      <td>restaurant</td>\n",
       "      <td>La Villa</td>\n",
       "      <td>POINT (39.37536 -5.97723)</td>\n",
       "      <td>pois</td>\n",
       "    </tr>\n",
       "    <tr>\n",
       "      <th>1</th>\n",
       "      <td>31553369</td>\n",
       "      <td>2401</td>\n",
       "      <td>hotel</td>\n",
       "      <td>Blue Bay Beach Resort</td>\n",
       "      <td>POINT (39.37505 -5.97794)</td>\n",
       "      <td>pois</td>\n",
       "    </tr>\n",
       "  </tbody>\n",
       "</table>\n",
       "</div>"
      ],
      "text/plain": [
       "     osm_id  code      fclass                   name  \\\n",
       "0  31553367  2301  restaurant               La Villa   \n",
       "1  31553369  2401       hotel  Blue Bay Beach Resort   \n",
       "\n",
       "                    geometry  _src  \n",
       "0  POINT (39.37536 -5.97723)  pois  \n",
       "1  POINT (39.37505 -5.97794)  pois  "
      ]
     },
     "execution_count": 40,
     "metadata": {},
     "output_type": "execute_result"
    }
   ],
   "source": [
    "pois_gdf.head(2)"
   ]
  },
  {
   "cell_type": "code",
   "execution_count": 28,
   "id": "2be7c32d",
   "metadata": {},
   "outputs": [
    {
     "data": {
      "text/plain": [
       "69604"
      ]
     },
     "execution_count": 28,
     "metadata": {},
     "output_type": "execute_result"
    }
   ],
   "source": [
    "len(pois_gdf)"
   ]
  },
  {
   "cell_type": "code",
   "execution_count": 42,
   "id": "8dcbf111",
   "metadata": {},
   "outputs": [],
   "source": [
    "gdf = pd.concat([pois_gdf, pofw_gdf], ignore_index=True)"
   ]
  },
  {
   "cell_type": "code",
   "execution_count": 43,
   "id": "47c9d141",
   "metadata": {},
   "outputs": [
    {
     "data": {
      "text/plain": [
       "71802"
      ]
     },
     "execution_count": 43,
     "metadata": {},
     "output_type": "execute_result"
    }
   ],
   "source": [
    "len(gdf)"
   ]
  },
  {
   "cell_type": "code",
   "execution_count": 44,
   "id": "4d5fc15f",
   "metadata": {},
   "outputs": [
    {
     "data": {
      "text/html": [
       "<div>\n",
       "<style scoped>\n",
       "    .dataframe tbody tr th:only-of-type {\n",
       "        vertical-align: middle;\n",
       "    }\n",
       "\n",
       "    .dataframe tbody tr th {\n",
       "        vertical-align: top;\n",
       "    }\n",
       "\n",
       "    .dataframe thead th {\n",
       "        text-align: right;\n",
       "    }\n",
       "</style>\n",
       "<table border=\"1\" class=\"dataframe\">\n",
       "  <thead>\n",
       "    <tr style=\"text-align: right;\">\n",
       "      <th></th>\n",
       "      <th>osm_id</th>\n",
       "      <th>code</th>\n",
       "      <th>fclass</th>\n",
       "      <th>name</th>\n",
       "      <th>geometry</th>\n",
       "      <th>_src</th>\n",
       "    </tr>\n",
       "  </thead>\n",
       "  <tbody>\n",
       "    <tr>\n",
       "      <th>0</th>\n",
       "      <td>31553367</td>\n",
       "      <td>2301</td>\n",
       "      <td>restaurant</td>\n",
       "      <td>La Villa</td>\n",
       "      <td>POINT (39.37536 -5.97723)</td>\n",
       "      <td>pois</td>\n",
       "    </tr>\n",
       "    <tr>\n",
       "      <th>1</th>\n",
       "      <td>31553369</td>\n",
       "      <td>2401</td>\n",
       "      <td>hotel</td>\n",
       "      <td>Blue Bay Beach Resort</td>\n",
       "      <td>POINT (39.37505 -5.97794)</td>\n",
       "      <td>pois</td>\n",
       "    </tr>\n",
       "    <tr>\n",
       "      <th>2</th>\n",
       "      <td>31553370</td>\n",
       "      <td>2401</td>\n",
       "      <td>hotel</td>\n",
       "      <td>La Villa</td>\n",
       "      <td>POINT (39.37511 -5.97730)</td>\n",
       "      <td>pois</td>\n",
       "    </tr>\n",
       "    <tr>\n",
       "      <th>3</th>\n",
       "      <td>31553372</td>\n",
       "      <td>2401</td>\n",
       "      <td>hotel</td>\n",
       "      <td>Vera Club</td>\n",
       "      <td>POINT (39.37388 -5.97313)</td>\n",
       "      <td>pois</td>\n",
       "    </tr>\n",
       "    <tr>\n",
       "      <th>4</th>\n",
       "      <td>31553373</td>\n",
       "      <td>2401</td>\n",
       "      <td>hotel</td>\n",
       "      <td>Kiwengwa Beach Club</td>\n",
       "      <td>POINT (39.37145 -5.96675)</td>\n",
       "      <td>pois</td>\n",
       "    </tr>\n",
       "    <tr>\n",
       "      <th>...</th>\n",
       "      <td>...</td>\n",
       "      <td>...</td>\n",
       "      <td>...</td>\n",
       "      <td>...</td>\n",
       "      <td>...</td>\n",
       "      <td>...</td>\n",
       "    </tr>\n",
       "    <tr>\n",
       "      <th>71797</th>\n",
       "      <td>9513252219</td>\n",
       "      <td>3100</td>\n",
       "      <td>christian</td>\n",
       "      <td>Kanisa la Sabato</td>\n",
       "      <td>POINT (31.66627 -8.04219)</td>\n",
       "      <td>pofw</td>\n",
       "    </tr>\n",
       "    <tr>\n",
       "      <th>71798</th>\n",
       "      <td>9513273357</td>\n",
       "      <td>3100</td>\n",
       "      <td>christian</td>\n",
       "      <td>Pentecoste Assemblies of God Tanzania - Nambogo</td>\n",
       "      <td>POINT (31.66067 -8.04458)</td>\n",
       "      <td>pofw</td>\n",
       "    </tr>\n",
       "    <tr>\n",
       "      <th>71799</th>\n",
       "      <td>9687642250</td>\n",
       "      <td>3300</td>\n",
       "      <td>muslim</td>\n",
       "      <td>None</td>\n",
       "      <td>POINT (37.64724 -6.83568)</td>\n",
       "      <td>pofw</td>\n",
       "    </tr>\n",
       "    <tr>\n",
       "      <th>71800</th>\n",
       "      <td>9731102420</td>\n",
       "      <td>3100</td>\n",
       "      <td>christian</td>\n",
       "      <td>Africa Inland Church Tanzania (AICT) Geita</td>\n",
       "      <td>POINT (32.22896 -2.87418)</td>\n",
       "      <td>pofw</td>\n",
       "    </tr>\n",
       "    <tr>\n",
       "      <th>71801</th>\n",
       "      <td>9743100998</td>\n",
       "      <td>3100</td>\n",
       "      <td>christian</td>\n",
       "      <td>RC Makere New Building</td>\n",
       "      <td>POINT (30.42337 -4.28226)</td>\n",
       "      <td>pofw</td>\n",
       "    </tr>\n",
       "  </tbody>\n",
       "</table>\n",
       "<p>71802 rows × 6 columns</p>\n",
       "</div>"
      ],
      "text/plain": [
       "           osm_id  code      fclass  \\\n",
       "0        31553367  2301  restaurant   \n",
       "1        31553369  2401       hotel   \n",
       "2        31553370  2401       hotel   \n",
       "3        31553372  2401       hotel   \n",
       "4        31553373  2401       hotel   \n",
       "...           ...   ...         ...   \n",
       "71797  9513252219  3100   christian   \n",
       "71798  9513273357  3100   christian   \n",
       "71799  9687642250  3300      muslim   \n",
       "71800  9731102420  3100   christian   \n",
       "71801  9743100998  3100   christian   \n",
       "\n",
       "                                                  name  \\\n",
       "0                                             La Villa   \n",
       "1                                Blue Bay Beach Resort   \n",
       "2                                             La Villa   \n",
       "3                                            Vera Club   \n",
       "4                                  Kiwengwa Beach Club   \n",
       "...                                                ...   \n",
       "71797                                 Kanisa la Sabato   \n",
       "71798  Pentecoste Assemblies of God Tanzania - Nambogo   \n",
       "71799                                             None   \n",
       "71800       Africa Inland Church Tanzania (AICT) Geita   \n",
       "71801                           RC Makere New Building   \n",
       "\n",
       "                        geometry  _src  \n",
       "0      POINT (39.37536 -5.97723)  pois  \n",
       "1      POINT (39.37505 -5.97794)  pois  \n",
       "2      POINT (39.37511 -5.97730)  pois  \n",
       "3      POINT (39.37388 -5.97313)  pois  \n",
       "4      POINT (39.37145 -5.96675)  pois  \n",
       "...                          ...   ...  \n",
       "71797  POINT (31.66627 -8.04219)  pofw  \n",
       "71798  POINT (31.66067 -8.04458)  pofw  \n",
       "71799  POINT (37.64724 -6.83568)  pofw  \n",
       "71800  POINT (32.22896 -2.87418)  pofw  \n",
       "71801  POINT (30.42337 -4.28226)  pofw  \n",
       "\n",
       "[71802 rows x 6 columns]"
      ]
     },
     "execution_count": 44,
     "metadata": {},
     "output_type": "execute_result"
    }
   ],
   "source": [
    "gdf"
   ]
  },
  {
   "cell_type": "code",
   "execution_count": 31,
   "id": "07c3e894",
   "metadata": {},
   "outputs": [],
   "source": [
    "wkt = 'POLYGON ((34.47054862976074 -5.730179371102675, 34.52470779418945 -5.730179371102675, 34.52470779418945 -5.688757998098425, 34.47054862976074 -5.688757998098425, 34.47054862976074 -5.730179371102675))'\n",
    "geometry = shapely.wkt.loads(wkt)"
   ]
  },
  {
   "cell_type": "code",
   "execution_count": 32,
   "id": "40f603cc",
   "metadata": {},
   "outputs": [
    {
     "data": {
      "image/svg+xml": [
       "<svg xmlns=\"http://www.w3.org/2000/svg\" xmlns:xlink=\"http://www.w3.org/1999/xlink\" width=\"100.0\" height=\"100.0\" viewBox=\"34.46838226318359 -5.7323457376798235 0.058491897583010655 0.04575410615854647\" preserveAspectRatio=\"xMinYMin meet\"><g transform=\"matrix(1,0,0,-1,0,-11.4189373692011)\"><path fill-rule=\"evenodd\" fill=\"#66cc99\" stroke=\"#555555\" stroke-width=\"0.001169837951660213\" opacity=\"0.6\" d=\"M 34.47054862976074,-5.730179371102675 L 34.52470779418945,-5.730179371102675 L 34.52470779418945,-5.688757998098425 L 34.47054862976074,-5.688757998098425 L 34.47054862976074,-5.730179371102675 z\" /></g></svg>"
      ],
      "text/plain": [
       "<shapely.geometry.polygon.Polygon at 0x16598e880>"
      ]
     },
     "execution_count": 32,
     "metadata": {},
     "output_type": "execute_result"
    }
   ],
   "source": [
    "geometry"
   ]
  },
  {
   "cell_type": "code",
   "execution_count": 49,
   "id": "58893511",
   "metadata": {},
   "outputs": [],
   "source": [
    "aoi_gdf = gdf[gdf.within(geometry)].reset_index(drop=True)"
   ]
  },
  {
   "cell_type": "code",
   "execution_count": 50,
   "id": "d8427e4b",
   "metadata": {},
   "outputs": [
    {
     "data": {
      "text/html": [
       "<div>\n",
       "<style scoped>\n",
       "    .dataframe tbody tr th:only-of-type {\n",
       "        vertical-align: middle;\n",
       "    }\n",
       "\n",
       "    .dataframe tbody tr th {\n",
       "        vertical-align: top;\n",
       "    }\n",
       "\n",
       "    .dataframe thead th {\n",
       "        text-align: right;\n",
       "    }\n",
       "</style>\n",
       "<table border=\"1\" class=\"dataframe\">\n",
       "  <thead>\n",
       "    <tr style=\"text-align: right;\">\n",
       "      <th></th>\n",
       "      <th>osm_id</th>\n",
       "      <th>code</th>\n",
       "      <th>fclass</th>\n",
       "      <th>name</th>\n",
       "      <th>geometry</th>\n",
       "      <th>_src</th>\n",
       "    </tr>\n",
       "  </thead>\n",
       "  <tbody>\n",
       "    <tr>\n",
       "      <th>0</th>\n",
       "      <td>5823614254</td>\n",
       "      <td>2401</td>\n",
       "      <td>hotel</td>\n",
       "      <td>Puma guesthouse</td>\n",
       "      <td>POINT (34.49700 -5.69803)</td>\n",
       "      <td>pois</td>\n",
       "    </tr>\n",
       "    <tr>\n",
       "      <th>1</th>\n",
       "      <td>9360810597</td>\n",
       "      <td>2204</td>\n",
       "      <td>park</td>\n",
       "      <td>None</td>\n",
       "      <td>POINT (34.48656 -5.70005)</td>\n",
       "      <td>pois</td>\n",
       "    </tr>\n",
       "    <tr>\n",
       "      <th>2</th>\n",
       "      <td>9387793336</td>\n",
       "      <td>2501</td>\n",
       "      <td>supermarket</td>\n",
       "      <td>Rahma Supermarket</td>\n",
       "      <td>POINT (34.49706 -5.69951)</td>\n",
       "      <td>pois</td>\n",
       "    </tr>\n",
       "  </tbody>\n",
       "</table>\n",
       "</div>"
      ],
      "text/plain": [
       "       osm_id  code       fclass               name  \\\n",
       "0  5823614254  2401        hotel    Puma guesthouse   \n",
       "1  9360810597  2204         park               None   \n",
       "2  9387793336  2501  supermarket  Rahma Supermarket   \n",
       "\n",
       "                    geometry  _src  \n",
       "0  POINT (34.49700 -5.69803)  pois  \n",
       "1  POINT (34.48656 -5.70005)  pois  \n",
       "2  POINT (34.49706 -5.69951)  pois  "
      ]
     },
     "execution_count": 50,
     "metadata": {},
     "output_type": "execute_result"
    }
   ],
   "source": [
    "aoi_gdf"
   ]
  },
  {
   "cell_type": "code",
   "execution_count": 51,
   "id": "f9948fd1",
   "metadata": {},
   "outputs": [
    {
     "data": {
      "text/plain": [
       "<AxesSubplot:>"
      ]
     },
     "execution_count": 51,
     "metadata": {},
     "output_type": "execute_result"
    },
    {
     "data": {
      "image/png": "[encoded data removed]",
      "text/plain": [
       "<Figure size 432x288 with 1 Axes>"
      ]
     },
     "metadata": {
      "needs_background": "light"
     },
     "output_type": "display_data"
    }
   ],
   "source": [
    "aoi_gdf.plot()"
   ]
  },
  {
   "cell_type": "code",
   "execution_count": 52,
   "id": "ca5299c7",
   "metadata": {},
   "outputs": [
    {
     "data": {
      "text/plain": [
       "'{\"type\": \"FeatureCollection\", \"features\": [{\"id\": \"0\", \"type\": \"Feature\", \"properties\": {\"_src\": \"pois\", \"code\": 2401, \"fclass\": \"hotel\", \"name\": \"Puma guesthouse\", \"osm_id\": \"5823614254\"}, \"geometry\": {\"type\": \"Point\", \"coordinates\": [34.4970034, -5.6980266]}}, {\"id\": \"1\", \"type\": \"Feature\", \"properties\": {\"_src\": \"pois\", \"code\": 2204, \"fclass\": \"park\", \"name\": null, \"osm_id\": \"9360810597\"}, \"geometry\": {\"type\": \"Point\", \"coordinates\": [34.4865562, -5.7000483]}}, {\"id\": \"2\", \"type\": \"Feature\", \"properties\": {\"_src\": \"pois\", \"code\": 2501, \"fclass\": \"supermarket\", \"name\": \"Rahma Supermarket\", \"osm_id\": \"9387793336\"}, \"geometry\": {\"type\": \"Point\", \"coordinates\": [34.4970601, -5.6995106]}}]}'"
      ]
     },
     "execution_count": 52,
     "metadata": {},
     "output_type": "execute_result"
    }
   ],
   "source": [
    "aoi_gdf.to_json()"
   ]
  },
  {
   "cell_type": "code",
   "execution_count": 4,
   "id": "1a119f4e",
   "metadata": {},
   "outputs": [],
   "source": [
    "transport_gdf = geopandas.read_file('../input/data/geofabrik_pois/gis_osm_transport_free_1.shp')\n"
   ]
  },
  {
   "cell_type": "code",
   "execution_count": 5,
   "id": "4982dd42",
   "metadata": {},
   "outputs": [
    {
     "data": {
      "text/html": [
       "<div>\n",
       "<style scoped>\n",
       "    .dataframe tbody tr th:only-of-type {\n",
       "        vertical-align: middle;\n",
       "    }\n",
       "\n",
       "    .dataframe tbody tr th {\n",
       "        vertical-align: top;\n",
       "    }\n",
       "\n",
       "    .dataframe thead th {\n",
       "        text-align: right;\n",
       "    }\n",
       "</style>\n",
       "<table border=\"1\" class=\"dataframe\">\n",
       "  <thead>\n",
       "    <tr style=\"text-align: right;\">\n",
       "      <th></th>\n",
       "      <th>osm_id</th>\n",
       "      <th>code</th>\n",
       "      <th>fclass</th>\n",
       "      <th>name</th>\n",
       "      <th>geometry</th>\n",
       "    </tr>\n",
       "  </thead>\n",
       "  <tbody>\n",
       "    <tr>\n",
       "      <th>0</th>\n",
       "      <td>31567815</td>\n",
       "      <td>5661</td>\n",
       "      <td>ferry_terminal</td>\n",
       "      <td>None</td>\n",
       "      <td>POINT (39.29039 -5.73132)</td>\n",
       "    </tr>\n",
       "    <tr>\n",
       "      <th>1</th>\n",
       "      <td>34154599</td>\n",
       "      <td>5661</td>\n",
       "      <td>ferry_terminal</td>\n",
       "      <td>None</td>\n",
       "      <td>POINT (34.75930 -12.13375)</td>\n",
       "    </tr>\n",
       "    <tr>\n",
       "      <th>2</th>\n",
       "      <td>34171309</td>\n",
       "      <td>5661</td>\n",
       "      <td>ferry_terminal</td>\n",
       "      <td>Ilala Ferry</td>\n",
       "      <td>POINT (34.30091 -12.91215)</td>\n",
       "    </tr>\n",
       "    <tr>\n",
       "      <th>3</th>\n",
       "      <td>47809030</td>\n",
       "      <td>5661</td>\n",
       "      <td>ferry_terminal</td>\n",
       "      <td>Kigongo Ferryport</td>\n",
       "      <td>POINT (32.89324 -2.71377)</td>\n",
       "    </tr>\n",
       "    <tr>\n",
       "      <th>4</th>\n",
       "      <td>47875460</td>\n",
       "      <td>5661</td>\n",
       "      <td>ferry_terminal</td>\n",
       "      <td>Busisi Ferryport</td>\n",
       "      <td>POINT (32.86823 -2.72528)</td>\n",
       "    </tr>\n",
       "    <tr>\n",
       "      <th>...</th>\n",
       "      <td>...</td>\n",
       "      <td>...</td>\n",
       "      <td>...</td>\n",
       "      <td>...</td>\n",
       "      <td>...</td>\n",
       "    </tr>\n",
       "    <tr>\n",
       "      <th>2460</th>\n",
       "      <td>9748982518</td>\n",
       "      <td>5622</td>\n",
       "      <td>bus_station</td>\n",
       "      <td>Mutukula bus station</td>\n",
       "      <td>POINT (31.41563 -1.00129)</td>\n",
       "    </tr>\n",
       "    <tr>\n",
       "      <th>2461</th>\n",
       "      <td>9748996817</td>\n",
       "      <td>5622</td>\n",
       "      <td>bus_station</td>\n",
       "      <td>None</td>\n",
       "      <td>POINT (31.40810 -1.20830)</td>\n",
       "    </tr>\n",
       "    <tr>\n",
       "      <th>2462</th>\n",
       "      <td>9753999817</td>\n",
       "      <td>5621</td>\n",
       "      <td>bus_stop</td>\n",
       "      <td>Nshamba Roundabout</td>\n",
       "      <td>POINT (31.54860 -1.80106)</td>\n",
       "    </tr>\n",
       "    <tr>\n",
       "      <th>2463</th>\n",
       "      <td>9758187019</td>\n",
       "      <td>5622</td>\n",
       "      <td>bus_station</td>\n",
       "      <td>None</td>\n",
       "      <td>POINT (39.22350 -6.07548)</td>\n",
       "    </tr>\n",
       "    <tr>\n",
       "      <th>2464</th>\n",
       "      <td>9791939218</td>\n",
       "      <td>5622</td>\n",
       "      <td>bus_station</td>\n",
       "      <td>Kasharunga Bodaboda Stand</td>\n",
       "      <td>POINT (31.55896 -2.02714)</td>\n",
       "    </tr>\n",
       "  </tbody>\n",
       "</table>\n",
       "<p>2465 rows × 5 columns</p>\n",
       "</div>"
      ],
      "text/plain": [
       "          osm_id  code          fclass                       name  \\\n",
       "0       31567815  5661  ferry_terminal                       None   \n",
       "1       34154599  5661  ferry_terminal                       None   \n",
       "2       34171309  5661  ferry_terminal                Ilala Ferry   \n",
       "3       47809030  5661  ferry_terminal          Kigongo Ferryport   \n",
       "4       47875460  5661  ferry_terminal           Busisi Ferryport   \n",
       "...          ...   ...             ...                        ...   \n",
       "2460  9748982518  5622     bus_station       Mutukula bus station   \n",
       "2461  9748996817  5622     bus_station                       None   \n",
       "2462  9753999817  5621        bus_stop         Nshamba Roundabout   \n",
       "2463  9758187019  5622     bus_station                       None   \n",
       "2464  9791939218  5622     bus_station  Kasharunga Bodaboda Stand   \n",
       "\n",
       "                        geometry  \n",
       "0      POINT (39.29039 -5.73132)  \n",
       "1     POINT (34.75930 -12.13375)  \n",
       "2     POINT (34.30091 -12.91215)  \n",
       "3      POINT (32.89324 -2.71377)  \n",
       "4      POINT (32.86823 -2.72528)  \n",
       "...                          ...  \n",
       "2460   POINT (31.41563 -1.00129)  \n",
       "2461   POINT (31.40810 -1.20830)  \n",
       "2462   POINT (31.54860 -1.80106)  \n",
       "2463   POINT (39.22350 -6.07548)  \n",
       "2464   POINT (31.55896 -2.02714)  \n",
       "\n",
       "[2465 rows x 5 columns]"
      ]
     },
     "execution_count": 5,
     "metadata": {},
     "output_type": "execute_result"
    }
   ],
   "source": [
    "transport_gdf"
   ]
  },
  {
   "cell_type": "code",
   "execution_count": 6,
   "id": "0287df0d",
   "metadata": {},
   "outputs": [
    {
     "data": {
      "text/plain": [
       "<AxesSubplot:>"
      ]
     },
     "execution_count": 6,
     "metadata": {},
     "output_type": "execute_result"
    },
    {
     "data": {
      "image/png": "[encoded data removed]",
      "text/plain": [
       "<Figure size 432x288 with 1 Axes>"
      ]
     },
     "metadata": {
      "needs_background": "light"
     },
     "output_type": "display_data"
    }
   ],
   "source": [
    "transport_gdf.plot()"
   ]
  },
  {
   "cell_type": "code",
   "execution_count": null,
   "id": "d83fa5c2",
   "metadata": {},
   "outputs": [],
   "source": []
  },
  {
   "cell_type": "code",
   "execution_count": 7,
   "id": "ad480bdb",
   "metadata": {},
   "outputs": [
    {
     "data": {
      "text/plain": [
       "array(['ferry_terminal', 'railway_station', 'bus_station', 'bus_stop',\n",
       "       'railway_halt', 'airport', 'taxi', 'helipad', 'airfield'],\n",
       "      dtype=object)"
      ]
     },
     "execution_count": 7,
     "metadata": {},
     "output_type": "execute_result"
    }
   ],
   "source": [
    "transport_gdf['fclass'].unique()"
   ]
  },
  {
   "cell_type": "code",
   "execution_count": 8,
   "id": "cf3a20f0",
   "metadata": {},
   "outputs": [
    {
     "data": {
      "text/plain": [
       "<AxesSubplot:>"
      ]
     },
     "execution_count": 8,
     "metadata": {},
     "output_type": "execute_result"
    },
    {
     "data": {
      "image/png": "[encoded data removed]",
      "text/plain": [
       "<Figure size 432x288 with 1 Axes>"
      ]
     },
     "metadata": {
      "needs_background": "light"
     },
     "output_type": "display_data"
    }
   ],
   "source": [
    "transport_gdf[transport_gdf['fclass'] == 'airport'].plot()"
   ]
  },
  {
   "cell_type": "code",
   "execution_count": 10,
   "id": "eee308e9",
   "metadata": {},
   "outputs": [],
   "source": [
    "stats = transport_gdf['fclass'].value_counts()"
   ]
  },
  {
   "cell_type": "code",
   "execution_count": 14,
   "id": "c56d72d5",
   "metadata": {},
   "outputs": [
    {
     "data": {
      "text/plain": [
       "{'bus_stop': 1676,\n",
       " 'bus_station': 461,\n",
       " 'railway_station': 145,\n",
       " 'ferry_terminal': 90,\n",
       " 'airport': 41,\n",
       " 'taxi': 31,\n",
       " 'railway_halt': 10,\n",
       " 'helipad': 10,\n",
       " 'airfield': 1}"
      ]
     },
     "execution_count": 14,
     "metadata": {},
     "output_type": "execute_result"
    }
   ],
   "source": [
    "stats.to_dict()"
   ]
  },
  {
   "cell_type": "code",
   "execution_count": 16,
   "id": "7db33f1a",
   "metadata": {},
   "outputs": [
    {
     "name": "stdout",
     "output_type": "stream",
     "text": [
      "bus_stop\n",
      "bus_station\n",
      "railway_station\n",
      "ferry_terminal\n",
      "airport\n",
      "taxi\n",
      "railway_halt\n",
      "helipad\n",
      "airfield\n"
     ]
    }
   ],
   "source": [
    "for key, value in stats.to_dict().items():\n",
    "    print(key)"
   ]
  }
 ],
 "metadata": {
  "kernelspec": {
   "display_name": "Python 3 (ipykernel)",
   "language": "python",
   "name": "python3"
  },
  "language_info": {
   "codemirror_mode": {
    "name": "ipython",
    "version": 3
   },
   "file_extension": ".py",
   "mimetype": "text/x-python",
   "name": "python",
   "nbconvert_exporter": "python",
   "pygments_lexer": "ipython3",
   "version": "3.9.13"
  }
 },
 "nbformat": 4,
 "nbformat_minor": 5
}
