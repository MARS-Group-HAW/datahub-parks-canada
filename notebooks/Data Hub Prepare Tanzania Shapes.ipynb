{
 "cells": [
  {
   "cell_type": "markdown",
   "id": "eec02458",
   "metadata": {},
   "source": [
    "# Data Hub Shapes\n",
    "\n",
    "The shapes in the Data Hub can be organized hirarchical, so you need to prepare your input shapes accordingly. The format is as follows:"
   ]
  },
  {
   "cell_type": "code",
   "execution_count": 57,
   "id": "84a37b07",
   "metadata": {},
   "outputs": [],
   "source": [
    "import pandas as pd\n",
    "import geopandas\n",
    "import matplotlib.pyplot as plt"
   ]
  },
  {
   "cell_type": "code",
   "execution_count": 58,
   "id": "3b81e91b",
   "metadata": {},
   "outputs": [
    {
     "data": {
      "text/html": [
       "<div>\n",
       "<style scoped>\n",
       "    .dataframe tbody tr th:only-of-type {\n",
       "        vertical-align: middle;\n",
       "    }\n",
       "\n",
       "    .dataframe tbody tr th {\n",
       "        vertical-align: top;\n",
       "    }\n",
       "\n",
       "    .dataframe thead th {\n",
       "        text-align: right;\n",
       "    }\n",
       "</style>\n",
       "<table border=\"1\" class=\"dataframe\">\n",
       "  <thead>\n",
       "    <tr style=\"text-align: right;\">\n",
       "      <th></th>\n",
       "      <th>id</th>\n",
       "      <th>name</th>\n",
       "      <th>type</th>\n",
       "      <th>parent_id</th>\n",
       "      <th>geometry</th>\n",
       "    </tr>\n",
       "  </thead>\n",
       "  <tbody>\n",
       "    <tr>\n",
       "      <th>0</th>\n",
       "      <td>1</td>\n",
       "      <td>Germany</td>\n",
       "      <td>country</td>\n",
       "      <td>NaN</td>\n",
       "      <td>...</td>\n",
       "    </tr>\n",
       "    <tr>\n",
       "      <th>1</th>\n",
       "      <td>2</td>\n",
       "      <td>Baden-Würtemberg</td>\n",
       "      <td>state</td>\n",
       "      <td>1.0</td>\n",
       "      <td>...</td>\n",
       "    </tr>\n",
       "    <tr>\n",
       "      <th>2</th>\n",
       "      <td>3</td>\n",
       "      <td>Hamburg</td>\n",
       "      <td>state</td>\n",
       "      <td>1.0</td>\n",
       "      <td>...</td>\n",
       "    </tr>\n",
       "    <tr>\n",
       "      <th>3</th>\n",
       "      <td>4</td>\n",
       "      <td>Tübingen</td>\n",
       "      <td>district</td>\n",
       "      <td>2.0</td>\n",
       "      <td>...</td>\n",
       "    </tr>\n",
       "    <tr>\n",
       "      <th>4</th>\n",
       "      <td>5</td>\n",
       "      <td>Reutlingen</td>\n",
       "      <td>district</td>\n",
       "      <td>2.0</td>\n",
       "      <td>...</td>\n",
       "    </tr>\n",
       "  </tbody>\n",
       "</table>\n",
       "</div>"
      ],
      "text/plain": [
       "   id              name      type  parent_id geometry\n",
       "0   1           Germany   country        NaN      ...\n",
       "1   2  Baden-Würtemberg     state        1.0      ...\n",
       "2   3           Hamburg     state        1.0      ...\n",
       "3   4          Tübingen  district        2.0      ...\n",
       "4   5        Reutlingen  district        2.0      ..."
      ]
     },
     "execution_count": 58,
     "metadata": {},
     "output_type": "execute_result"
    }
   ],
   "source": [
    "# Example of required structure for import of Shapes into Data Hub\n",
    "pd.DataFrame([{\n",
    "    'id': 1,\n",
    "    'name': 'Germany',\n",
    "    'type': 'country',\n",
    "    'parent_id': None,\n",
    "    'geometry': '...'\n",
    "},\n",
    "{\n",
    "    'id': 2,\n",
    "    'name': 'Baden-Würtemberg',\n",
    "    'type': 'state',\n",
    "    'parent_id': 1,\n",
    "    'geometry': '...',\n",
    "},\n",
    "{\n",
    "    'id': 3,\n",
    "    'name': 'Hamburg',\n",
    "    'type': 'state',\n",
    "    'parent_id': 1,\n",
    "    'geometry': '...',\n",
    "},\n",
    "{\n",
    "    'id': 4,\n",
    "    'name': 'Tübingen',\n",
    "    'type': 'district',\n",
    "    'parent_id': 2,\n",
    "    'geometry': '...'\n",
    "},\n",
    "{\n",
    "    'id': 5,\n",
    "    'name': 'Reutlingen',\n",
    "    'type': 'district',\n",
    "    'parent_id': 2,\n",
    "    'geometry': '...'\n",
    "}])"
   ]
  },
  {
   "cell_type": "markdown",
   "id": "2a2dd624",
   "metadata": {},
   "source": [
    "# Example preparation of Admin level 0, 1 and 2\n",
    "\n",
    "See Shape-File download: https://gadm.org/download_country.html"
   ]
  },
  {
   "cell_type": "code",
   "execution_count": 59,
   "id": "ec7dbc12",
   "metadata": {},
   "outputs": [],
   "source": [
    "gdf0 = geopandas.read_file('../input/shapes/Districts_Shapefiles_2019/Tanzania based on Districts and TC.gpkg')\n",
    "gdf1 = geopandas.read_file('../input/shapes/Districts_Shapefiles_2019/Regions Based on Districts.shp')\n",
    "gdf2 = geopandas.read_file('..//input/shapes/Districts_Shapefiles_2019/Districts and TC as 2020 FIXED.shp')"
   ]
  },
  {
   "cell_type": "code",
   "execution_count": 60,
   "id": "423e6a7a",
   "metadata": {},
   "outputs": [
    {
     "data": {
      "image/png": "[encoded data removed]",
      "text/plain": [
       "<Figure size 640x480 with 3 Axes>"
      ]
     },
     "metadata": {},
     "output_type": "display_data"
    }
   ],
   "source": [
    "fig, (ax0, ax1, ax2) = plt.subplots(1, 3)\n",
    "gdf0.plot(ax=ax0)\n",
    "gdf1.plot(ax=ax1)\n",
    "gdf2.plot(ax=ax2)\n",
    "\n",
    "ax0.set_title('Country')\n",
    "ax1.set_title('Region')\n",
    "ax2.set_title('District')\n",
    "\n",
    "plt.show()"
   ]
  },
  {
   "cell_type": "markdown",
   "id": "7bc07955",
   "metadata": {},
   "source": [
    "# Prepare level0"
   ]
  },
  {
   "cell_type": "code",
   "execution_count": 61,
   "id": "784796a2",
   "metadata": {},
   "outputs": [
    {
     "data": {
      "text/html": [
       "<div>\n",
       "<style scoped>\n",
       "    .dataframe tbody tr th:only-of-type {\n",
       "        vertical-align: middle;\n",
       "    }\n",
       "\n",
       "    .dataframe tbody tr th {\n",
       "        vertical-align: top;\n",
       "    }\n",
       "\n",
       "    .dataframe thead th {\n",
       "        text-align: right;\n",
       "    }\n",
       "</style>\n",
       "<table border=\"1\" class=\"dataframe\">\n",
       "  <thead>\n",
       "    <tr style=\"text-align: right;\">\n",
       "      <th></th>\n",
       "      <th>Region_Nam</th>\n",
       "      <th>Region_Cod</th>\n",
       "      <th>District_C</th>\n",
       "      <th>NewDist20</th>\n",
       "      <th>geometry</th>\n",
       "    </tr>\n",
       "  </thead>\n",
       "  <tbody>\n",
       "    <tr>\n",
       "      <th>0</th>\n",
       "      <td>Arusha</td>\n",
       "      <td>2</td>\n",
       "      <td>6</td>\n",
       "      <td>Arusha DC</td>\n",
       "      <td>MULTIPOLYGON (((39.65274 -9.45981, 39.65274 -9...</td>\n",
       "    </tr>\n",
       "  </tbody>\n",
       "</table>\n",
       "</div>"
      ],
      "text/plain": [
       "  Region_Nam  Region_Cod  District_C  NewDist20  \\\n",
       "0     Arusha           2           6  Arusha DC   \n",
       "\n",
       "                                            geometry  \n",
       "0  MULTIPOLYGON (((39.65274 -9.45981, 39.65274 -9...  "
      ]
     },
     "execution_count": 61,
     "metadata": {},
     "output_type": "execute_result"
    }
   ],
   "source": [
    "gdf0"
   ]
  },
  {
   "cell_type": "code",
   "execution_count": 62,
   "id": "452386cb",
   "metadata": {},
   "outputs": [],
   "source": [
    "gdf0_new = geopandas.GeoDataFrame([{\n",
    "    'name': 'Tanzania',\n",
    "    'geometry': gdf0.at[0, 'geometry']\n",
    "}])"
   ]
  },
  {
   "cell_type": "code",
   "execution_count": 63,
   "id": "0d81977a",
   "metadata": {},
   "outputs": [],
   "source": [
    "# Rename\n",
    "gdf0_new = geopandas.GeoDataFrame([{\n",
    "    'name': 'Tanzania',\n",
    "    'type': 'country',\n",
    "    'parent_name': pd.NA,\n",
    "    'properties': pd.NA,\n",
    "    'geometry': gdf0.at[0, 'geometry']\n",
    "}]).set_crs(gdf0.crs)"
   ]
  },
  {
   "cell_type": "code",
   "execution_count": 64,
   "id": "50bc97fa",
   "metadata": {},
   "outputs": [
    {
     "data": {
      "text/html": [
       "<div>\n",
       "<style scoped>\n",
       "    .dataframe tbody tr th:only-of-type {\n",
       "        vertical-align: middle;\n",
       "    }\n",
       "\n",
       "    .dataframe tbody tr th {\n",
       "        vertical-align: top;\n",
       "    }\n",
       "\n",
       "    .dataframe thead th {\n",
       "        text-align: right;\n",
       "    }\n",
       "</style>\n",
       "<table border=\"1\" class=\"dataframe\">\n",
       "  <thead>\n",
       "    <tr style=\"text-align: right;\">\n",
       "      <th></th>\n",
       "      <th>name</th>\n",
       "      <th>type</th>\n",
       "      <th>parent_name</th>\n",
       "      <th>properties</th>\n",
       "      <th>geometry</th>\n",
       "    </tr>\n",
       "  </thead>\n",
       "  <tbody>\n",
       "    <tr>\n",
       "      <th>0</th>\n",
       "      <td>Tanzania</td>\n",
       "      <td>country</td>\n",
       "      <td>&lt;NA&gt;</td>\n",
       "      <td>&lt;NA&gt;</td>\n",
       "      <td>MULTIPOLYGON (((39.65274 -9.45981, 39.65274 -9...</td>\n",
       "    </tr>\n",
       "  </tbody>\n",
       "</table>\n",
       "</div>"
      ],
      "text/plain": [
       "       name     type parent_name properties  \\\n",
       "0  Tanzania  country        <NA>       <NA>   \n",
       "\n",
       "                                            geometry  \n",
       "0  MULTIPOLYGON (((39.65274 -9.45981, 39.65274 -9...  "
      ]
     },
     "execution_count": 64,
     "metadata": {},
     "output_type": "execute_result"
    }
   ],
   "source": [
    "gdf0_new"
   ]
  },
  {
   "cell_type": "markdown",
   "id": "de0faba7",
   "metadata": {},
   "source": [
    "# Prepare level1"
   ]
  },
  {
   "cell_type": "code",
   "execution_count": 65,
   "id": "4d4ce30e",
   "metadata": {},
   "outputs": [
    {
     "data": {
      "text/html": [
       "<div>\n",
       "<style scoped>\n",
       "    .dataframe tbody tr th:only-of-type {\n",
       "        vertical-align: middle;\n",
       "    }\n",
       "\n",
       "    .dataframe tbody tr th {\n",
       "        vertical-align: top;\n",
       "    }\n",
       "\n",
       "    .dataframe thead th {\n",
       "        text-align: right;\n",
       "    }\n",
       "</style>\n",
       "<table border=\"1\" class=\"dataframe\">\n",
       "  <thead>\n",
       "    <tr style=\"text-align: right;\">\n",
       "      <th></th>\n",
       "      <th>Region_Nam</th>\n",
       "      <th>Region_Cod</th>\n",
       "      <th>geometry</th>\n",
       "    </tr>\n",
       "  </thead>\n",
       "  <tbody>\n",
       "    <tr>\n",
       "      <th>0</th>\n",
       "      <td>Dodoma</td>\n",
       "      <td>1</td>\n",
       "      <td>MULTIPOLYGON (((36.31609 -5.52782, 36.31818 -5...</td>\n",
       "    </tr>\n",
       "    <tr>\n",
       "      <th>1</th>\n",
       "      <td>Simiyu</td>\n",
       "      <td>24</td>\n",
       "      <td>POLYGON ((34.88258 -2.99594, 34.88270 -3.00102...</td>\n",
       "    </tr>\n",
       "    <tr>\n",
       "      <th>2</th>\n",
       "      <td>Singida</td>\n",
       "      <td>13</td>\n",
       "      <td>POLYGON ((34.24180 -5.40433, 34.24180 -5.40265...</td>\n",
       "    </tr>\n",
       "  </tbody>\n",
       "</table>\n",
       "</div>"
      ],
      "text/plain": [
       "  Region_Nam  Region_Cod                                           geometry\n",
       "0     Dodoma           1  MULTIPOLYGON (((36.31609 -5.52782, 36.31818 -5...\n",
       "1     Simiyu          24  POLYGON ((34.88258 -2.99594, 34.88270 -3.00102...\n",
       "2    Singida          13  POLYGON ((34.24180 -5.40433, 34.24180 -5.40265..."
      ]
     },
     "execution_count": 65,
     "metadata": {},
     "output_type": "execute_result"
    }
   ],
   "source": [
    "gdf1.head(3)"
   ]
  },
  {
   "cell_type": "code",
   "execution_count": 66,
   "id": "7225dd7b",
   "metadata": {},
   "outputs": [],
   "source": [
    "# Remove uneeded columns\n",
    "gdf1_new = gdf1[['Region_Nam','geometry']]\n",
    "\n",
    "# Rename\n",
    "gdf1_new = gdf1_new.rename(columns={\n",
    "    'Region_Nam': 'name' \n",
    "})\n",
    "\n",
    "gdf1_new = gdf1_new.sort_values('name', ascending=True)\n",
    "\n",
    "# Add type columns\n",
    "gdf1_new['type'] = 'region'\n",
    "gdf1_new['parent_name'] = 'Tanzania'"
   ]
  },
  {
   "cell_type": "code",
   "execution_count": 67,
   "id": "8e91a944",
   "metadata": {},
   "outputs": [
    {
     "data": {
      "text/html": [
       "<div>\n",
       "<style scoped>\n",
       "    .dataframe tbody tr th:only-of-type {\n",
       "        vertical-align: middle;\n",
       "    }\n",
       "\n",
       "    .dataframe tbody tr th {\n",
       "        vertical-align: top;\n",
       "    }\n",
       "\n",
       "    .dataframe thead th {\n",
       "        text-align: right;\n",
       "    }\n",
       "</style>\n",
       "<table border=\"1\" class=\"dataframe\">\n",
       "  <thead>\n",
       "    <tr style=\"text-align: right;\">\n",
       "      <th></th>\n",
       "      <th>name</th>\n",
       "      <th>geometry</th>\n",
       "      <th>type</th>\n",
       "      <th>parent_name</th>\n",
       "    </tr>\n",
       "  </thead>\n",
       "  <tbody>\n",
       "    <tr>\n",
       "      <th>17</th>\n",
       "      <td>Arusha</td>\n",
       "      <td>POLYGON ((35.83179 -3.42883, 35.83153 -3.42867...</td>\n",
       "      <td>region</td>\n",
       "      <td>Tanzania</td>\n",
       "    </tr>\n",
       "    <tr>\n",
       "      <th>27</th>\n",
       "      <td>Dar-es-salaam</td>\n",
       "      <td>MULTIPOLYGON (((39.31691 -6.81557, 39.31770 -6...</td>\n",
       "      <td>region</td>\n",
       "      <td>Tanzania</td>\n",
       "    </tr>\n",
       "    <tr>\n",
       "      <th>0</th>\n",
       "      <td>Dodoma</td>\n",
       "      <td>MULTIPOLYGON (((36.31609 -5.52782, 36.31818 -5...</td>\n",
       "      <td>region</td>\n",
       "      <td>Tanzania</td>\n",
       "    </tr>\n",
       "  </tbody>\n",
       "</table>\n",
       "</div>"
      ],
      "text/plain": [
       "             name                                           geometry    type  \\\n",
       "17         Arusha  POLYGON ((35.83179 -3.42883, 35.83153 -3.42867...  region   \n",
       "27  Dar-es-salaam  MULTIPOLYGON (((39.31691 -6.81557, 39.31770 -6...  region   \n",
       "0          Dodoma  MULTIPOLYGON (((36.31609 -5.52782, 36.31818 -5...  region   \n",
       "\n",
       "   parent_name  \n",
       "17    Tanzania  \n",
       "27    Tanzania  \n",
       "0     Tanzania  "
      ]
     },
     "execution_count": 67,
     "metadata": {},
     "output_type": "execute_result"
    }
   ],
   "source": [
    "gdf1_new.head(3)"
   ]
  },
  {
   "cell_type": "markdown",
   "id": "da24c559",
   "metadata": {},
   "source": [
    "# Prepare level2"
   ]
  },
  {
   "cell_type": "code",
   "execution_count": 68,
   "id": "5f7656d1",
   "metadata": {},
   "outputs": [
    {
     "data": {
      "text/html": [
       "<div>\n",
       "<style scoped>\n",
       "    .dataframe tbody tr th:only-of-type {\n",
       "        vertical-align: middle;\n",
       "    }\n",
       "\n",
       "    .dataframe tbody tr th {\n",
       "        vertical-align: top;\n",
       "    }\n",
       "\n",
       "    .dataframe thead th {\n",
       "        text-align: right;\n",
       "    }\n",
       "</style>\n",
       "<table border=\"1\" class=\"dataframe\">\n",
       "  <thead>\n",
       "    <tr style=\"text-align: right;\">\n",
       "      <th></th>\n",
       "      <th>Region_Nam</th>\n",
       "      <th>Region_Cod</th>\n",
       "      <th>District_C</th>\n",
       "      <th>NewDist20</th>\n",
       "      <th>geometry</th>\n",
       "    </tr>\n",
       "  </thead>\n",
       "  <tbody>\n",
       "    <tr>\n",
       "      <th>0</th>\n",
       "      <td>Arusha</td>\n",
       "      <td>2</td>\n",
       "      <td>6</td>\n",
       "      <td>Arusha DC</td>\n",
       "      <td>MULTIPOLYGON (((36.79314 -3.39499, 36.79285 -3...</td>\n",
       "    </tr>\n",
       "    <tr>\n",
       "      <th>1</th>\n",
       "      <td>Arusha</td>\n",
       "      <td>2</td>\n",
       "      <td>3</td>\n",
       "      <td>Arusha MC</td>\n",
       "      <td>POLYGON ((36.63328 -3.36609, 36.63297 -3.36625...</td>\n",
       "    </tr>\n",
       "    <tr>\n",
       "      <th>2</th>\n",
       "      <td>Arusha</td>\n",
       "      <td>2</td>\n",
       "      <td>4</td>\n",
       "      <td>Karatu DC</td>\n",
       "      <td>POLYGON ((35.88714 -3.26276, 35.88595 -3.26604...</td>\n",
       "    </tr>\n",
       "  </tbody>\n",
       "</table>\n",
       "</div>"
      ],
      "text/plain": [
       "  Region_Nam  Region_Cod  District_C  NewDist20  \\\n",
       "0     Arusha           2           6  Arusha DC   \n",
       "1     Arusha           2           3  Arusha MC   \n",
       "2     Arusha           2           4  Karatu DC   \n",
       "\n",
       "                                            geometry  \n",
       "0  MULTIPOLYGON (((36.79314 -3.39499, 36.79285 -3...  \n",
       "1  POLYGON ((36.63328 -3.36609, 36.63297 -3.36625...  \n",
       "2  POLYGON ((35.88714 -3.26276, 35.88595 -3.26604...  "
      ]
     },
     "execution_count": 68,
     "metadata": {},
     "output_type": "execute_result"
    }
   ],
   "source": [
    "gdf2.head(3)"
   ]
  },
  {
   "cell_type": "code",
   "execution_count": 69,
   "id": "f3e93ce5",
   "metadata": {},
   "outputs": [],
   "source": [
    "# Remove uneeded columns\n",
    "gdf2_new = gdf2[['NewDist20', 'Region_Nam', 'geometry']]\n",
    "\n",
    "# Rename\n",
    "gdf2_new = gdf2_new.rename(columns={\n",
    "    'NewDist20': 'name', \n",
    "    'Region_Nam': 'parent_name'\n",
    "})\n",
    "\n",
    "gdf2_new = gdf2_new.sort_values('name', ascending=True)\n",
    "\n",
    "# Add type columns\n",
    "gdf2_new['type'] = 'district'"
   ]
  },
  {
   "cell_type": "code",
   "execution_count": 70,
   "id": "e2d06c75",
   "metadata": {},
   "outputs": [
    {
     "data": {
      "text/html": [
       "<div>\n",
       "<style scoped>\n",
       "    .dataframe tbody tr th:only-of-type {\n",
       "        vertical-align: middle;\n",
       "    }\n",
       "\n",
       "    .dataframe tbody tr th {\n",
       "        vertical-align: top;\n",
       "    }\n",
       "\n",
       "    .dataframe thead th {\n",
       "        text-align: right;\n",
       "    }\n",
       "</style>\n",
       "<table border=\"1\" class=\"dataframe\">\n",
       "  <thead>\n",
       "    <tr style=\"text-align: right;\">\n",
       "      <th></th>\n",
       "      <th>name</th>\n",
       "      <th>parent_name</th>\n",
       "      <th>geometry</th>\n",
       "      <th>type</th>\n",
       "    </tr>\n",
       "  </thead>\n",
       "  <tbody>\n",
       "    <tr>\n",
       "      <th>0</th>\n",
       "      <td>Arusha DC</td>\n",
       "      <td>Arusha</td>\n",
       "      <td>MULTIPOLYGON (((36.79314 -3.39499, 36.79285 -3...</td>\n",
       "      <td>district</td>\n",
       "    </tr>\n",
       "    <tr>\n",
       "      <th>1</th>\n",
       "      <td>Arusha MC</td>\n",
       "      <td>Arusha</td>\n",
       "      <td>POLYGON ((36.63328 -3.36609, 36.63297 -3.36625...</td>\n",
       "      <td>district</td>\n",
       "    </tr>\n",
       "    <tr>\n",
       "      <th>67</th>\n",
       "      <td>Babati DC</td>\n",
       "      <td>Manyara</td>\n",
       "      <td>POLYGON ((35.72589 -3.56723, 35.72615 -3.56744...</td>\n",
       "      <td>district</td>\n",
       "    </tr>\n",
       "  </tbody>\n",
       "</table>\n",
       "</div>"
      ],
      "text/plain": [
       "         name parent_name                                           geometry  \\\n",
       "0   Arusha DC      Arusha  MULTIPOLYGON (((36.79314 -3.39499, 36.79285 -3...   \n",
       "1   Arusha MC      Arusha  POLYGON ((36.63328 -3.36609, 36.63297 -3.36625...   \n",
       "67  Babati DC     Manyara  POLYGON ((35.72589 -3.56723, 35.72615 -3.56744...   \n",
       "\n",
       "        type  \n",
       "0   district  \n",
       "1   district  \n",
       "67  district  "
      ]
     },
     "execution_count": 70,
     "metadata": {},
     "output_type": "execute_result"
    }
   ],
   "source": [
    "gdf2_new.head(3)"
   ]
  },
  {
   "cell_type": "code",
   "execution_count": 71,
   "id": "b44c02df",
   "metadata": {},
   "outputs": [],
   "source": [
    "gdf012 = pd.concat([gdf0_new, gdf1_new, gdf2_new]).reset_index(drop=True)\n",
    "gdf012.insert(0, 'id', range(1, len(gdf012)+1))"
   ]
  },
  {
   "cell_type": "code",
   "execution_count": 72,
   "id": "c61dfbc5",
   "metadata": {},
   "outputs": [],
   "source": [
    "def get_id_for_name(name):\n",
    "    dfx = gdf012[gdf012['name'] == name].reset_index(drop=True)\n",
    "    \n",
    "    if (len(dfx) == 0):\n",
    "        return None\n",
    "    return dfx.at[0, 'id']\n",
    "\n",
    "gdf012['parent_id'] = gdf012['parent_name'].apply(get_id_for_name)"
   ]
  },
  {
   "cell_type": "code",
   "execution_count": 73,
   "id": "658bb560",
   "metadata": {},
   "outputs": [],
   "source": [
    "gdf012_final = gdf012.drop(columns=['parent_name'])"
   ]
  },
  {
   "cell_type": "code",
   "execution_count": 74,
   "id": "c37da1c7",
   "metadata": {},
   "outputs": [
    {
     "name": "stdout",
     "output_type": "stream",
     "text": [
      "<class 'geopandas.geodataframe.GeoDataFrame'>\n",
      "RangeIndex: 227 entries, 0 to 226\n",
      "Data columns (total 6 columns):\n",
      " #   Column      Non-Null Count  Dtype   \n",
      "---  ------      --------------  -----   \n",
      " 0   id          227 non-null    int64   \n",
      " 1   name        227 non-null    object  \n",
      " 2   type        227 non-null    object  \n",
      " 3   properties  0 non-null      object  \n",
      " 4   geometry    227 non-null    geometry\n",
      " 5   parent_id   226 non-null    float64 \n",
      "dtypes: float64(1), geometry(1), int64(1), object(3)\n",
      "memory usage: 10.8+ KB\n"
     ]
    }
   ],
   "source": [
    "gdf012_final.info()"
   ]
  },
  {
   "cell_type": "code",
   "execution_count": 75,
   "id": "6be24fbf",
   "metadata": {},
   "outputs": [
    {
     "data": {
      "text/html": [
       "<div>\n",
       "<style scoped>\n",
       "    .dataframe tbody tr th:only-of-type {\n",
       "        vertical-align: middle;\n",
       "    }\n",
       "\n",
       "    .dataframe tbody tr th {\n",
       "        vertical-align: top;\n",
       "    }\n",
       "\n",
       "    .dataframe thead th {\n",
       "        text-align: right;\n",
       "    }\n",
       "</style>\n",
       "<table border=\"1\" class=\"dataframe\">\n",
       "  <thead>\n",
       "    <tr style=\"text-align: right;\">\n",
       "      <th></th>\n",
       "      <th>id</th>\n",
       "      <th>name</th>\n",
       "      <th>type</th>\n",
       "      <th>properties</th>\n",
       "      <th>geometry</th>\n",
       "      <th>parent_id</th>\n",
       "    </tr>\n",
       "  </thead>\n",
       "  <tbody>\n",
       "    <tr>\n",
       "      <th>0</th>\n",
       "      <td>1</td>\n",
       "      <td>Tanzania</td>\n",
       "      <td>country</td>\n",
       "      <td>NaN</td>\n",
       "      <td>MULTIPOLYGON (((39.65274 -9.45981, 39.65274 -9...</td>\n",
       "      <td>NaN</td>\n",
       "    </tr>\n",
       "    <tr>\n",
       "      <th>1</th>\n",
       "      <td>2</td>\n",
       "      <td>Arusha</td>\n",
       "      <td>region</td>\n",
       "      <td>NaN</td>\n",
       "      <td>POLYGON ((35.83179 -3.42883, 35.83153 -3.42867...</td>\n",
       "      <td>1.0</td>\n",
       "    </tr>\n",
       "    <tr>\n",
       "      <th>2</th>\n",
       "      <td>3</td>\n",
       "      <td>Dar-es-salaam</td>\n",
       "      <td>region</td>\n",
       "      <td>NaN</td>\n",
       "      <td>MULTIPOLYGON (((39.31691 -6.81557, 39.31770 -6...</td>\n",
       "      <td>1.0</td>\n",
       "    </tr>\n",
       "    <tr>\n",
       "      <th>3</th>\n",
       "      <td>4</td>\n",
       "      <td>Dodoma</td>\n",
       "      <td>region</td>\n",
       "      <td>NaN</td>\n",
       "      <td>MULTIPOLYGON (((36.31609 -5.52782, 36.31818 -5...</td>\n",
       "      <td>1.0</td>\n",
       "    </tr>\n",
       "    <tr>\n",
       "      <th>4</th>\n",
       "      <td>5</td>\n",
       "      <td>Geita</td>\n",
       "      <td>region</td>\n",
       "      <td>NaN</td>\n",
       "      <td>MULTIPOLYGON (((31.99752 -3.74578, 31.99158 -3...</td>\n",
       "      <td>1.0</td>\n",
       "    </tr>\n",
       "    <tr>\n",
       "      <th>5</th>\n",
       "      <td>6</td>\n",
       "      <td>Iringa</td>\n",
       "      <td>region</td>\n",
       "      <td>NaN</td>\n",
       "      <td>POLYGON ((35.98175 -8.40394, 35.98175 -8.40396...</td>\n",
       "      <td>1.0</td>\n",
       "    </tr>\n",
       "    <tr>\n",
       "      <th>6</th>\n",
       "      <td>7</td>\n",
       "      <td>Kagera</td>\n",
       "      <td>region</td>\n",
       "      <td>NaN</td>\n",
       "      <td>MULTIPOLYGON (((31.74791 -1.51667, 31.74791 -1...</td>\n",
       "      <td>1.0</td>\n",
       "    </tr>\n",
       "    <tr>\n",
       "      <th>7</th>\n",
       "      <td>8</td>\n",
       "      <td>Kaskazini Pemba</td>\n",
       "      <td>region</td>\n",
       "      <td>NaN</td>\n",
       "      <td>MULTIPOLYGON (((39.64500 -5.14016, 39.64491 -5...</td>\n",
       "      <td>1.0</td>\n",
       "    </tr>\n",
       "    <tr>\n",
       "      <th>8</th>\n",
       "      <td>9</td>\n",
       "      <td>Kaskazini Unguja</td>\n",
       "      <td>region</td>\n",
       "      <td>NaN</td>\n",
       "      <td>MULTIPOLYGON (((39.37027 -5.95762, 39.37123 -5...</td>\n",
       "      <td>1.0</td>\n",
       "    </tr>\n",
       "    <tr>\n",
       "      <th>9</th>\n",
       "      <td>10</td>\n",
       "      <td>Katavi</td>\n",
       "      <td>region</td>\n",
       "      <td>NaN</td>\n",
       "      <td>POLYGON ((32.31989 -7.24260, 32.30045 -7.25315...</td>\n",
       "      <td>1.0</td>\n",
       "    </tr>\n",
       "  </tbody>\n",
       "</table>\n",
       "</div>"
      ],
      "text/plain": [
       "   id              name     type properties  \\\n",
       "0   1          Tanzania  country        NaN   \n",
       "1   2            Arusha   region        NaN   \n",
       "2   3     Dar-es-salaam   region        NaN   \n",
       "3   4            Dodoma   region        NaN   \n",
       "4   5             Geita   region        NaN   \n",
       "5   6            Iringa   region        NaN   \n",
       "6   7            Kagera   region        NaN   \n",
       "7   8   Kaskazini Pemba   region        NaN   \n",
       "8   9  Kaskazini Unguja   region        NaN   \n",
       "9  10            Katavi   region        NaN   \n",
       "\n",
       "                                            geometry  parent_id  \n",
       "0  MULTIPOLYGON (((39.65274 -9.45981, 39.65274 -9...        NaN  \n",
       "1  POLYGON ((35.83179 -3.42883, 35.83153 -3.42867...        1.0  \n",
       "2  MULTIPOLYGON (((39.31691 -6.81557, 39.31770 -6...        1.0  \n",
       "3  MULTIPOLYGON (((36.31609 -5.52782, 36.31818 -5...        1.0  \n",
       "4  MULTIPOLYGON (((31.99752 -3.74578, 31.99158 -3...        1.0  \n",
       "5  POLYGON ((35.98175 -8.40394, 35.98175 -8.40396...        1.0  \n",
       "6  MULTIPOLYGON (((31.74791 -1.51667, 31.74791 -1...        1.0  \n",
       "7  MULTIPOLYGON (((39.64500 -5.14016, 39.64491 -5...        1.0  \n",
       "8  MULTIPOLYGON (((39.37027 -5.95762, 39.37123 -5...        1.0  \n",
       "9  POLYGON ((32.31989 -7.24260, 32.30045 -7.25315...        1.0  "
      ]
     },
     "execution_count": 75,
     "metadata": {},
     "output_type": "execute_result"
    }
   ],
   "source": [
    "gdf012_final.head(10)"
   ]
  },
  {
   "cell_type": "code",
   "execution_count": 76,
   "id": "37077071",
   "metadata": {},
   "outputs": [],
   "source": [
    "gdf012_final.to_file('../input/shapes/esida_tza.gpkg', index=False)"
   ]
  }
 ],
 "metadata": {
  "kernelspec": {
   "display_name": "3.11.0",
   "language": "python",
   "name": "pyenv_3.11.0"
  },
  "language_info": {
   "codemirror_mode": {
    "name": "ipython",
    "version": 3
   },
   "file_extension": ".py",
   "mimetype": "text/x-python",
   "name": "python",
   "nbconvert_exporter": "python",
   "pygments_lexer": "ipython3",
   "version": "3.11.0"
  }
 },
 "nbformat": 4,
 "nbformat_minor": 5
}
