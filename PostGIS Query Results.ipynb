{
 "cells": [
  {
   "cell_type": "code",
   "execution_count": 1,
   "id": "4e418c01",
   "metadata": {},
   "outputs": [],
   "source": [
    "import pandas as pd\n",
    "\n",
    "# prevent false warning\n",
    "# https://stackoverflow.com/questions/20625582/how-to-deal-with-settingwithcopywarning-in-pandas\n",
    "pd.options.mode.chained_assignment = None  # default='warn'\n",
    "\n",
    "import matplotlib.pyplot as plt\n",
    "import matplotlib.ticker as mtick\n",
    "import numpy as np\n",
    "\n",
    "import geopandas\n",
    "from shapely import wkt"
   ]
  },
  {
   "cell_type": "code",
   "execution_count": 29,
   "id": "06139ccb",
   "metadata": {},
   "outputs": [],
   "source": [
    "gdf = geopandas.read_file('esida_97_clip.csv')"
   ]
  },
  {
   "cell_type": "code",
   "execution_count": 30,
   "id": "ff8dbae3",
   "metadata": {},
   "outputs": [
    {
     "data": {
      "image/svg+xml": [
       "<svg xmlns=\"http://www.w3.org/2000/svg\" xmlns:xlink=\"http://www.w3.org/1999/xlink\" width=\"100.0\" height=\"100.0\" viewBox=\"33.66124987639716 -5.182083115116755 2.0 2.0\" preserveAspectRatio=\"xMinYMin meet\"><g transform=\"matrix(1,0,0,-1,0,-8.36416623023351)\"><circle cx=\"34.66124987639716\" cy=\"-4.182083115116755\" r=\"0.06\" stroke=\"#555555\" stroke-width=\"0.02\" fill=\"#66cc99\" opacity=\"0.6\" /></g></svg>"
      ],
      "text/plain": [
       "<shapely.geometry.point.Point at 0x329c8fe50>"
      ]
     },
     "execution_count": 30,
     "metadata": {},
     "output_type": "execute_result"
    }
   ],
   "source": [
    "wkt.loads('SRID=4326;POINT(34.66124987639716 -4.182083115116755)'.split(';')[1])"
   ]
  },
  {
   "cell_type": "code",
   "execution_count": 31,
   "id": "b9132fe7",
   "metadata": {},
   "outputs": [],
   "source": [
    "def tmp(wktstr):\n",
    "    return wkt.loads(wktstr.split(';')[1])"
   ]
  },
  {
   "cell_type": "code",
   "execution_count": 32,
   "id": "a819b84b",
   "metadata": {},
   "outputs": [],
   "source": [
    "gdf['geometry'] = gdf['geom'].apply(tmp)\n"
   ]
  },
  {
   "cell_type": "code",
   "execution_count": 33,
   "id": "d41f09cd",
   "metadata": {},
   "outputs": [
    {
     "data": {
      "text/html": [
       "<div>\n",
       "<style scoped>\n",
       "    .dataframe tbody tr th:only-of-type {\n",
       "        vertical-align: middle;\n",
       "    }\n",
       "\n",
       "    .dataframe tbody tr th {\n",
       "        vertical-align: top;\n",
       "    }\n",
       "\n",
       "    .dataframe thead th {\n",
       "        text-align: right;\n",
       "    }\n",
       "</style>\n",
       "<table border=\"1\" class=\"dataframe\">\n",
       "  <thead>\n",
       "    <tr style=\"text-align: right;\">\n",
       "      <th></th>\n",
       "      <th>geom</th>\n",
       "      <th>val</th>\n",
       "      <th>x</th>\n",
       "      <th>y</th>\n",
       "      <th>geometry</th>\n",
       "    </tr>\n",
       "  </thead>\n",
       "  <tbody>\n",
       "    <tr>\n",
       "      <th>0</th>\n",
       "      <td>SRID=4326;POINT(37.61708319794439 -6.657916438...</td>\n",
       "      <td>0.46141573786735535</td>\n",
       "      <td>1</td>\n",
       "      <td>2</td>\n",
       "      <td>POINT (37.61708 -6.65792)</td>\n",
       "    </tr>\n",
       "    <tr>\n",
       "      <th>1</th>\n",
       "      <td>SRID=4326;POINT(37.6179165312744 -6.6579164384...</td>\n",
       "      <td>0.46322327852249146</td>\n",
       "      <td>2</td>\n",
       "      <td>2</td>\n",
       "      <td>POINT (37.61792 -6.65792)</td>\n",
       "    </tr>\n",
       "    <tr>\n",
       "      <th>2</th>\n",
       "      <td>SRID=4326;POINT(37.61708319794439 -6.658749771...</td>\n",
       "      <td>0.4557512104511261</td>\n",
       "      <td>1</td>\n",
       "      <td>3</td>\n",
       "      <td>POINT (37.61708 -6.65875)</td>\n",
       "    </tr>\n",
       "    <tr>\n",
       "      <th>3</th>\n",
       "      <td>SRID=4326;POINT(37.6179165312744 -6.6587497718...</td>\n",
       "      <td>0.4592883884906769</td>\n",
       "      <td>2</td>\n",
       "      <td>3</td>\n",
       "      <td>POINT (37.61792 -6.65875)</td>\n",
       "    </tr>\n",
       "    <tr>\n",
       "      <th>4</th>\n",
       "      <td>SRID=4326;POINT(37.61708319794439 -6.659583105...</td>\n",
       "      <td>0.47832614183425903</td>\n",
       "      <td>1</td>\n",
       "      <td>4</td>\n",
       "      <td>POINT (37.61708 -6.65958)</td>\n",
       "    </tr>\n",
       "    <tr>\n",
       "      <th>...</th>\n",
       "      <td>...</td>\n",
       "      <td>...</td>\n",
       "      <td>...</td>\n",
       "      <td>...</td>\n",
       "      <td>...</td>\n",
       "    </tr>\n",
       "    <tr>\n",
       "      <th>33960</th>\n",
       "      <td>SRID=4326;POINT(37.62041653126443 -6.912916437...</td>\n",
       "      <td>3.3389196395874023</td>\n",
       "      <td>3</td>\n",
       "      <td>18</td>\n",
       "      <td>POINT (37.62042 -6.91292)</td>\n",
       "    </tr>\n",
       "    <tr>\n",
       "      <th>33961</th>\n",
       "      <td>SRID=4326;POINT(37.62124986459444 -6.912916437...</td>\n",
       "      <td>3.302978754043579</td>\n",
       "      <td>4</td>\n",
       "      <td>18</td>\n",
       "      <td>POINT (37.62125 -6.91292)</td>\n",
       "    </tr>\n",
       "    <tr>\n",
       "      <th>33962</th>\n",
       "      <td>SRID=4326;POINT(37.62208319792445 -6.912916437...</td>\n",
       "      <td>3.2535817623138428</td>\n",
       "      <td>5</td>\n",
       "      <td>18</td>\n",
       "      <td>POINT (37.62208 -6.91292)</td>\n",
       "    </tr>\n",
       "    <tr>\n",
       "      <th>33963</th>\n",
       "      <td>SRID=4326;POINT(37.62291653125446 -6.912916437...</td>\n",
       "      <td>3.253467559814453</td>\n",
       "      <td>6</td>\n",
       "      <td>18</td>\n",
       "      <td>POINT (37.62292 -6.91292)</td>\n",
       "    </tr>\n",
       "    <tr>\n",
       "      <th>33964</th>\n",
       "      <td>SRID=4326;POINT(37.61874986460441 -6.913749770...</td>\n",
       "      <td>3.5973715782165527</td>\n",
       "      <td>1</td>\n",
       "      <td>19</td>\n",
       "      <td>POINT (37.61875 -6.91375)</td>\n",
       "    </tr>\n",
       "  </tbody>\n",
       "</table>\n",
       "<p>33965 rows × 5 columns</p>\n",
       "</div>"
      ],
      "text/plain": [
       "                                                    geom                  val  \\\n",
       "0      SRID=4326;POINT(37.61708319794439 -6.657916438...  0.46141573786735535   \n",
       "1      SRID=4326;POINT(37.6179165312744 -6.6579164384...  0.46322327852249146   \n",
       "2      SRID=4326;POINT(37.61708319794439 -6.658749771...   0.4557512104511261   \n",
       "3      SRID=4326;POINT(37.6179165312744 -6.6587497718...   0.4592883884906769   \n",
       "4      SRID=4326;POINT(37.61708319794439 -6.659583105...  0.47832614183425903   \n",
       "...                                                  ...                  ...   \n",
       "33960  SRID=4326;POINT(37.62041653126443 -6.912916437...   3.3389196395874023   \n",
       "33961  SRID=4326;POINT(37.62124986459444 -6.912916437...    3.302978754043579   \n",
       "33962  SRID=4326;POINT(37.62208319792445 -6.912916437...   3.2535817623138428   \n",
       "33963  SRID=4326;POINT(37.62291653125446 -6.912916437...    3.253467559814453   \n",
       "33964  SRID=4326;POINT(37.61874986460441 -6.913749770...   3.5973715782165527   \n",
       "\n",
       "       x   y                   geometry  \n",
       "0      1   2  POINT (37.61708 -6.65792)  \n",
       "1      2   2  POINT (37.61792 -6.65792)  \n",
       "2      1   3  POINT (37.61708 -6.65875)  \n",
       "3      2   3  POINT (37.61792 -6.65875)  \n",
       "4      1   4  POINT (37.61708 -6.65958)  \n",
       "...   ..  ..                        ...  \n",
       "33960  3  18  POINT (37.62042 -6.91292)  \n",
       "33961  4  18  POINT (37.62125 -6.91292)  \n",
       "33962  5  18  POINT (37.62208 -6.91292)  \n",
       "33963  6  18  POINT (37.62292 -6.91292)  \n",
       "33964  1  19  POINT (37.61875 -6.91375)  \n",
       "\n",
       "[33965 rows x 5 columns]"
      ]
     },
     "execution_count": 33,
     "metadata": {},
     "output_type": "execute_result"
    }
   ],
   "source": [
    "gdf"
   ]
  },
  {
   "cell_type": "code",
   "execution_count": 34,
   "id": "68da6ad8",
   "metadata": {},
   "outputs": [
    {
     "name": "stdout",
     "output_type": "stream",
     "text": [
      "<class 'geopandas.geodataframe.GeoDataFrame'>\n",
      "RangeIndex: 33965 entries, 0 to 33964\n",
      "Data columns (total 5 columns):\n",
      " #   Column    Non-Null Count  Dtype   \n",
      "---  ------    --------------  -----   \n",
      " 0   geom      33965 non-null  object  \n",
      " 1   val       33965 non-null  object  \n",
      " 2   x         33965 non-null  object  \n",
      " 3   y         33965 non-null  object  \n",
      " 4   geometry  33965 non-null  geometry\n",
      "dtypes: geometry(1), object(4)\n",
      "memory usage: 1.3+ MB\n"
     ]
    }
   ],
   "source": [
    "gdf.info()"
   ]
  },
  {
   "cell_type": "code",
   "execution_count": 35,
   "id": "e1afcdf2",
   "metadata": {},
   "outputs": [],
   "source": [
    "def conv(x):\n",
    "    return float(x)\n",
    "\n",
    "gdf['val2'] = gdf['val'].apply(conv)"
   ]
  },
  {
   "cell_type": "code",
   "execution_count": 36,
   "id": "ee166291",
   "metadata": {},
   "outputs": [
    {
     "data": {
      "text/plain": [
       "<AxesSubplot:>"
      ]
     },
     "execution_count": 36,
     "metadata": {},
     "output_type": "execute_result"
    },
    {
     "data": {
      "image/png": "[encoded data removed]",
      "text/plain": [
       "<Figure size 432x288 with 1 Axes>"
      ]
     },
     "metadata": {
      "needs_background": "light"
     },
     "output_type": "display_data"
    }
   ],
   "source": [
    "gdf['val2'].hist()"
   ]
  },
  {
   "cell_type": "code",
   "execution_count": 37,
   "id": "9da43bcc",
   "metadata": {},
   "outputs": [
    {
     "data": {
      "text/plain": [
       "428564.3559528254"
      ]
     },
     "execution_count": 37,
     "metadata": {},
     "output_type": "execute_result"
    }
   ],
   "source": [
    "gdf['val2'].sum()"
   ]
  },
  {
   "cell_type": "code",
   "execution_count": 38,
   "id": "b21f2436",
   "metadata": {},
   "outputs": [],
   "source": [
    "district_gdf = geopandas.read_file('Morogor_Urban.geojson')"
   ]
  },
  {
   "cell_type": "code",
   "execution_count": 39,
   "id": "a2f3b34f",
   "metadata": {},
   "outputs": [
    {
     "data": {
      "text/plain": [
       "<AxesSubplot:>"
      ]
     },
     "execution_count": 39,
     "metadata": {},
     "output_type": "execute_result"
    },
    {
     "data": {
      "image/png": "[encoded data removed]",
      "text/plain": [
       "<Figure size 432x288 with 2 Axes>"
      ]
     },
     "metadata": {
      "needs_background": "light"
     },
     "output_type": "display_data"
    }
   ],
   "source": [
    "ax = gdf.plot(column='val2', legend=True)\n",
    "\n",
    "\n",
    "district_gdf.plot(facecolor=\"none\", edgecolor='red', lw=1, ax=ax)\n"
   ]
  }
 ],
 "metadata": {
  "kernelspec": {
   "display_name": "Python 3 (ipykernel)",
   "language": "python",
   "name": "python3"
  },
  "language_info": {
   "codemirror_mode": {
    "name": "ipython",
    "version": 3
   },
   "file_extension": ".py",
   "mimetype": "text/x-python",
   "name": "python",
   "nbconvert_exporter": "python",
   "pygments_lexer": "ipython3",
   "version": "3.9.10"
  }
 },
 "nbformat": 4,
 "nbformat_minor": 5
}
